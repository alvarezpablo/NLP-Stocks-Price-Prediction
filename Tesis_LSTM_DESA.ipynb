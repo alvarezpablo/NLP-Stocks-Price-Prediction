{
  "nbformat": 4,
  "nbformat_minor": 0,
  "metadata": {
    "colab": {
      "name": "Tesis-LSTM DESA.ipynb",
      "provenance": [],
      "include_colab_link": true
    },
    "kernelspec": {
      "name": "python3",
      "display_name": "Python 3"
    },
    "language_info": {
      "name": "python"
    }
  },
  "cells": [
    {
      "cell_type": "markdown",
      "metadata": {
        "id": "view-in-github",
        "colab_type": "text"
      },
      "source": [
        "<a href=\"https://colab.research.google.com/github/alvarezpablo/NLP-Stocks-Price-Prediction/blob/main/Tesis_LSTM_DESA.ipynb\" target=\"_parent\"><img src=\"https://colab.research.google.com/assets/colab-badge.svg\" alt=\"Open In Colab\"/></a>"
      ]
    },
    {
      "cell_type": "code",
      "execution_count": 44,
      "metadata": {
        "id": "YNUWmp-Z3VnV"
      },
      "outputs": [],
      "source": [
        "import numpy as np\n",
        "import matplotlib.pyplot as plt\n",
        "import pandas as pd\n",
        "import math\n",
        "from keras.models import Sequential\n",
        "from keras.layers import Dense\n",
        "from keras.layers import LSTM\n",
        "from keras.layers import Dropout\n",
        "from sklearn.preprocessing import MinMaxScaler\n",
        "from sklearn.metrics import mean_squared_error\n",
        "from sklearn.metrics import mean_absolute_error\n",
        "from datetime import datetime\n",
        "from datetime import timedelta\n",
        "from google.colab import drive"
      ]
    },
    {
      "cell_type": "markdown",
      "source": [
        "## Configuración para la ejecución"
      ],
      "metadata": {
        "id": "5lXOBb02Btcn"
      }
    },
    {
      "cell_type": "code",
      "source": [
        "#empresa = 'NETFLIX'\n",
        "#empresa = 'AMAZON'\n",
        "#empresa = 'APPLE'\n",
        "#empresa = 'GOOGLE'\n",
        "#empresa = 'ACME'\n",
        "\n",
        "empresa = 'TESLA'\n",
        "#empresa = 'FACEBOOK'\n",
        "epochs = 50"
      ],
      "metadata": {
        "id": "kL7ZtmCgByvF"
      },
      "execution_count": 45,
      "outputs": []
    },
    {
      "cell_type": "markdown",
      "source": [
        "## Rutinas"
      ],
      "metadata": {
        "id": "8URhp_cPCAPu"
      }
    },
    {
      "cell_type": "code",
      "source": [
        "# convierte los datos de entrada en una matriz con la ventana de tiempo\n",
        "def createDSWindows(dataset, ventana):\n",
        "  dataX, dataY, dataK, a = [], [], [], []\n",
        "  for i in range(len(dataset)-ventana-1):\n",
        "    a = dataset[i:(i+ventana), 1]\n",
        "    b = dataset[i, 0]\n",
        "    d = dataset[i,3]\n",
        "    c = np.concatenate((b,a), axis=None)\n",
        "#    c = np.concatenate((c,d), axis=None)\n",
        "    dataX.append(c)\n",
        "    dataY.append(dataset[i + ventana, 1])\n",
        "    dataK.append(d)\n",
        "  \n",
        "  return np.array(dataX), np.array(dataY), np.array(dataK)\n",
        "\n",
        "#retorna el proximo día (desde una fecha) sin considerar fines de semana \n",
        "def nextDay(fecha):\n",
        "  proximo = str((datetime.strptime(fecha,\"%Y-%m-%d\")+timedelta(days=+1)).strftime(\"%Y-%m-%d\"))\n",
        "  dia = datetime.strptime(proximo,\"%Y-%m-%d\").weekday()\n",
        "  if dia == 5:\n",
        "    proximo = str((datetime.strptime(fecha,\"%Y-%m-%d\")+timedelta(days=+3)).strftime(\"%Y-%m-%d\"))\n",
        "  elif dia == 6:\n",
        "    proximo = str((datetime.strptime(fecha,\"%Y-%m-%d\")+timedelta(days=+2)).strftime(\"%Y-%m-%d\"))\n",
        "  else:\n",
        "    proximo = str((datetime.strptime(fecha,\"%Y-%m-%d\")+timedelta(days=+1)).strftime(\"%Y-%m-%d\"))\n",
        "  return proximo\n",
        "\n",
        "def getPolaridad(fecha, dataframe, delta):\n",
        "  proximo = str((datetime.strptime(fecha,\"%Y-%m-%d\")+timedelta(days=+delta)).strftime(\"%Y-%m-%d\"))\n",
        "  df = dataframe\n",
        "  df = df.set_index('Date')\n",
        "  try:\n",
        "    polaridad = df.loc[[proximo], ['label']]\n",
        "  except:\n",
        "    return getPolaridad(fecha, dataframe, delta-1)\n",
        "  return polaridad.iloc[0,0]\n",
        "\n",
        "def setRows(dataframe):\n",
        "  fecha = []\n",
        "  polaridad = []\n",
        "  valor = []\n",
        "  vsemana = []\n",
        "  mensajes = []\n",
        "  for i in range(len(dataframe)):\n",
        "    f = dataframe.iloc[i,0]\n",
        "    p = dataframe.iloc[i,1]\n",
        "    v = dataframe.iloc[i,2]\n",
        "    vs = dataframe.iloc[i,3]\n",
        "    m = dataframe.iloc[i,4]\n",
        "    try:\n",
        "      b = dataframe.iloc[i+1,0]\n",
        "      next = nextDay(f)\n",
        "      if next == b:\n",
        "        fecha.append(f)\n",
        "        polaridad.append(p)\n",
        "        valor.append(v)\n",
        "        vsemana.append(vs)\n",
        "        mensajes.append(m)\n",
        "      else: #este caso se da cuando en el dataset no esta el día; feriado\n",
        "        fecha.append(f)\n",
        "        fecha.append(next)\n",
        "        polaridad.append(p)\n",
        "        valor.append(v)\n",
        "        vsemana.append(vs)\n",
        "        mensajes.append(m)\n",
        "        polaridad.append(getPolaridad(next,dataframe,7))\n",
        "        valor.append(v)\n",
        "        vsemana.append(vs)\n",
        "        mensajes.append(m)\n",
        "    except: #este caso se da cuando en el dataset no está la polaridad de la fecha que se busca, en ese caso, se usa la polaridad anterior\n",
        "      fecha.append(f)\n",
        "      polaridad.append(p)\n",
        "      valor.append(v)\n",
        "      vsemana.append(vs)\n",
        "      mensajes.append(m)\n",
        "    \n",
        "    frame = {'Fecha':fecha, 'Polaridad':polaridad, 'Valor':valor, 'VSemana':vsemana, 'Mensajes':mensajes}\n",
        "    df = pd.DataFrame(frame)\n",
        "    df = df.set_index('Fecha')\n",
        "\n",
        "  return df\n",
        "\n",
        "def getNombreArchivo(accion):\n",
        "  empresa = ['TESLA', 'GOOGLE', 'FACEBOOK', 'APPLE', 'AMAZON', 'NETFLIX']\n",
        "  archivo = ['TSLA_label2.1.csv','GOOGL_label2.1.csv','FB_label2.1.csv','AAPL_label2.1.csv','AMZN_label2.1.csv','NFLX_label2.1.csv']\n",
        "  frame = {'Empresa':empresa, 'Archivo':archivo}\n",
        "  df =pd.DataFrame(frame)\n",
        "  df = df.set_index('Empresa')\n",
        "  archivo = df.loc[[accion],['Archivo']].values[0][0]\n",
        "  return archivo\n",
        "\n",
        "def mean_directional_accuracy(actual: np.ndarray, predicted: np.ndarray):\n",
        "  return np.mean((np.sign(actual[1:] - actual[:-1]) == np.sign(predicted[1:] - predicted[:-1])).astype(int))"
      ],
      "metadata": {
        "id": "ZKSBvkKdKxKN"
      },
      "execution_count": 46,
      "outputs": []
    },
    {
      "cell_type": "markdown",
      "source": [
        "## Preparación del dataset"
      ],
      "metadata": {
        "id": "TbAYUHTmBNCE"
      }
    },
    {
      "cell_type": "code",
      "source": [
        "# fix random seed\n",
        "np.random.seed(7)\n",
        "\n",
        "# carga del dataset\n",
        "drive.mount('/gdrive')\n",
        "%cd '/gdrive/MyDrive/Magister IA/Tesis/Data/'\n",
        "\n",
        "archivo = getNombreArchivo(empresa)\n",
        "df = pd.read_csv(archivo, index_col=False)\n",
        "df.drop(df[df['Date'] < '2018-07-20'].index, inplace=True)\n",
        "df.drop(df[df['Date'] > '2020-06-26'].index, inplace=True)\n",
        "#df = df.drop(['symbol','message','datetime','user','message_id','Time', 'stock_price_1week'], axis='columns')\n",
        "#df = df.drop(['symbol','message','datetime','user','message_id','Time'], axis='columns')\n",
        "df = df.drop(['symbol','datetime','user','message_id','Time'], axis='columns')\n",
        "#df.reset_index(level=0, inplace=True)\n",
        "\n",
        "df=df.groupby(['Date', 'label', 'stock_price', 'stock_price_1week'])['message'].apply(' '.join).reset_index()\n",
        "#df = df.set_index('Date')\n",
        "#feriado = df.loc[['2019-01-01'], ['label', 'message']]\n",
        "#feriado\n",
        "#df\n"
      ],
      "metadata": {
        "colab": {
          "base_uri": "https://localhost:8080/"
        },
        "id": "UBJ3JSwXKmhV",
        "outputId": "a98c98f9-df9f-4803-c54d-ccf470bbb319"
      },
      "execution_count": 47,
      "outputs": [
        {
          "output_type": "stream",
          "name": "stdout",
          "text": [
            "Drive already mounted at /gdrive; to attempt to forcibly remount, call drive.mount(\"/gdrive\", force_remount=True).\n",
            "/gdrive/MyDrive/Magister IA/Tesis/Data\n"
          ]
        }
      ]
    },
    {
      "cell_type": "code",
      "source": [
        "#train_data=train_data.groupby(['symbol','Date', 'label', 'stock_price', 'stock_price_1week'])['message'].apply(' '.join).reset_index()\n",
        "\n",
        "\n",
        "#df = df.groupby(by=['Date']).mean()\n",
        "df['label'] = df['label'].map({-1:0, 1:1, 0:0}, na_action=None)\n",
        "#df.reset_index(level=0, inplace=True)\n",
        "\n",
        "\n",
        "# se consideran 5 días por semana, ya que en el data set no están los fines de semana\n",
        "dias = 5\n",
        "#la ventana debería ser igual a días. Sin embargo, hay un dato adicional en el dataset; que es la polaridad. Por eso se agrega 1 al tamaño de la ventana \n",
        "ventana = dias+1\n",
        "\n",
        "newDF = setRows(df)\n",
        "newDF.isnull().sum()\n",
        "#feriado = newDF.loc[['2018-12-31','2019-01-01','2019-01-02'], ['Valor', 'Polaridad','VSemana', 'Mensajes']]\n",
        "#feriado\n",
        "#newDF"
      ],
      "metadata": {
        "colab": {
          "base_uri": "https://localhost:8080/"
        },
        "id": "oe_iVEcUh_wq",
        "outputId": "4e33eec7-947b-4302-816c-deeefe047e75"
      },
      "execution_count": 48,
      "outputs": [
        {
          "output_type": "execute_result",
          "data": {
            "text/plain": [
              "Polaridad    0\n",
              "Valor        0\n",
              "VSemana      0\n",
              "Mensajes     0\n",
              "dtype: int64"
            ]
          },
          "metadata": {},
          "execution_count": 48
        }
      ]
    },
    {
      "cell_type": "code",
      "source": [
        "#newDF = newDF.drop(['Mensajes'], axis='columns')\n",
        "#newDF\n"
      ],
      "metadata": {
        "id": "e2d210r0MV8u"
      },
      "execution_count": 49,
      "outputs": []
    },
    {
      "cell_type": "code",
      "source": [
        "dataset = newDF.values\n",
        "dsVLSTM, dsOLSTM, dsMBERT = createDSWindows(dataset, dias)\n",
        "\n",
        "#dsVLSTM\n",
        "#dsOLSTM\n",
        "#dsMBERT"
      ],
      "metadata": {
        "id": "61R8LhLpbnCr"
      },
      "execution_count": 50,
      "outputs": []
    },
    {
      "cell_type": "code",
      "source": [
        "#dsVLSTM"
      ],
      "metadata": {
        "id": "Fojf3u5GfZK5"
      },
      "execution_count": 51,
      "outputs": []
    },
    {
      "cell_type": "code",
      "source": [
        "#dataset = newDF.values\n",
        "#dsVLSTM_M, dsOLSTM = createDSWindows(dataset, dias)\n",
        "\n",
        "# split train y test sets\n",
        "train_size = int(len(dataset) * 0.67)\n",
        "test_size = len(dataset) - train_size\n",
        "trainVLSTM, testVLSTM = dsVLSTM[0:train_size,:], dsVLSTM[train_size:len(dataset),:]\n",
        "trainOLSTM, testOLSTM = dsOLSTM[0:train_size], dsOLSTM[train_size:len(dataset)]\n",
        "trainMBERT, testMBERT = dsMBERT[0:train_size], dsMBERT[train_size:len(dataset)]\n",
        "\n",
        "#trainVLSTM\n",
        "#trainOLSTM\n",
        "#testOLSTM\n",
        "#testMBERT"
      ],
      "metadata": {
        "id": "K6B8lAALrsx9"
      },
      "execution_count": 52,
      "outputs": []
    },
    {
      "cell_type": "code",
      "source": [
        "#dataset = newDF.values\n",
        "#dataset = dataset.astype('float32')\n",
        "\n",
        "\n",
        "# split train y test sets\n",
        "#train_size = int(len(dataset) * 0.67)\n",
        "#test_size = len(dataset) - train_size\n",
        "#train, test = dataset[0:train_size,:], dataset[train_size:len(dataset),:]\n",
        "\n",
        "# reshape para la ventana\n",
        "trainX = trainVLSTM\n",
        "trainY = trainOLSTM\n",
        "testX = testVLSTM\n",
        "testY = testOLSTM\n",
        "\n",
        "# normalización de los sub-datasets\n",
        "scalerTrX = MinMaxScaler(feature_range=(0, 1))\n",
        "scalerTrY = MinMaxScaler(feature_range=(0, 1))\n",
        "scalerTeX = MinMaxScaler(feature_range=(0, 1))\n",
        "scalerTeY = MinMaxScaler(feature_range=(0, 1))\n",
        "\n",
        "trainX = scalerTrX.fit_transform(trainX)\n",
        "testX = scalerTeX.fit_transform(testX)\n",
        "\n",
        "trainY = trainY.reshape(-1,1)\n",
        "testY = testY.reshape(-1,1)\n",
        "\n",
        "trainY = scalerTrY.fit_transform(trainY)\n",
        "testY = scalerTeY.fit_transform(testY)\n",
        "\n",
        "trainY = trainY.flatten('F')\n",
        "testY = testY.flatten('F')\n",
        "\n",
        "# reshape [samples, time steps, features]\n",
        "trainX = np.reshape(trainX, (trainX.shape[0], trainX.shape[1], 1))\n",
        "testX = np.reshape(testX, (testX.shape[0], testX.shape[1], 1))\n",
        "\n",
        "#trainX"
      ],
      "metadata": {
        "id": "n3soLRmP4TjU"
      },
      "execution_count": 53,
      "outputs": []
    },
    {
      "cell_type": "markdown",
      "source": [
        "## Configuración y ejecución de la LSTM"
      ],
      "metadata": {
        "id": "8quknDSEBX7F"
      }
    },
    {
      "cell_type": "code",
      "source": [
        "batch_size = 1\n",
        "model = Sequential()\n",
        "model.add(LSTM(units = 100, return_sequences = True, batch_input_shape=(batch_size, ventana, 1)))\n",
        "model.add(Dropout(0.2))\n",
        "model.add(LSTM(units = 100, return_sequences = True))\n",
        "model.add(Dropout(0.2))\n",
        "model.add(LSTM(units = 100, return_sequences = True))\n",
        "model.add(Dropout(0.2))\n",
        "model.add(LSTM(units = 100))\n",
        "model.add(Dropout(0.2))\n",
        "model.add(Dense(units = 1))\n",
        "\n",
        "model.compile(loss='mean_squared_error', optimizer='adam')\n",
        "history = model.fit(trainX, trainY, epochs=epochs, batch_size=batch_size)"
      ],
      "metadata": {
        "id": "N-yoKldz5ppd",
        "colab": {
          "base_uri": "https://localhost:8080/"
        },
        "outputId": "de20dc80-85f9-45b5-a454-795f3f1673a9"
      },
      "execution_count": 54,
      "outputs": [
        {
          "output_type": "stream",
          "name": "stdout",
          "text": [
            "Epoch 1/50\n",
            "338/338 [==============================] - 10s 11ms/step - loss: 0.0358\n",
            "Epoch 2/50\n",
            "338/338 [==============================] - 4s 11ms/step - loss: 0.0102\n",
            "Epoch 3/50\n",
            "338/338 [==============================] - 4s 11ms/step - loss: 0.0087\n",
            "Epoch 4/50\n",
            "338/338 [==============================] - 4s 11ms/step - loss: 0.0085\n",
            "Epoch 5/50\n",
            "338/338 [==============================] - 4s 11ms/step - loss: 0.0076\n",
            "Epoch 6/50\n",
            "338/338 [==============================] - 4s 12ms/step - loss: 0.0073\n",
            "Epoch 7/50\n",
            "338/338 [==============================] - 4s 12ms/step - loss: 0.0066\n",
            "Epoch 8/50\n",
            "338/338 [==============================] - 4s 11ms/step - loss: 0.0074\n",
            "Epoch 9/50\n",
            "338/338 [==============================] - 4s 11ms/step - loss: 0.0061\n",
            "Epoch 10/50\n",
            "338/338 [==============================] - 4s 11ms/step - loss: 0.0067\n",
            "Epoch 11/50\n",
            "338/338 [==============================] - 4s 11ms/step - loss: 0.0059\n",
            "Epoch 12/50\n",
            "338/338 [==============================] - 4s 12ms/step - loss: 0.0059\n",
            "Epoch 13/50\n",
            "338/338 [==============================] - 4s 12ms/step - loss: 0.0058\n",
            "Epoch 14/50\n",
            "338/338 [==============================] - 4s 11ms/step - loss: 0.0051\n",
            "Epoch 15/50\n",
            "338/338 [==============================] - 4s 12ms/step - loss: 0.0056\n",
            "Epoch 16/50\n",
            "338/338 [==============================] - 4s 12ms/step - loss: 0.0048\n",
            "Epoch 17/50\n",
            "338/338 [==============================] - 4s 12ms/step - loss: 0.0061\n",
            "Epoch 18/50\n",
            "338/338 [==============================] - 4s 11ms/step - loss: 0.0054\n",
            "Epoch 19/50\n",
            "338/338 [==============================] - 4s 11ms/step - loss: 0.0045\n",
            "Epoch 20/50\n",
            "338/338 [==============================] - 4s 12ms/step - loss: 0.0052\n",
            "Epoch 21/50\n",
            "338/338 [==============================] - 4s 11ms/step - loss: 0.0045\n",
            "Epoch 22/50\n",
            "338/338 [==============================] - 4s 12ms/step - loss: 0.0047\n",
            "Epoch 23/50\n",
            "338/338 [==============================] - 4s 12ms/step - loss: 0.0045\n",
            "Epoch 24/50\n",
            "338/338 [==============================] - 4s 11ms/step - loss: 0.0049\n",
            "Epoch 25/50\n",
            "338/338 [==============================] - 4s 12ms/step - loss: 0.0050\n",
            "Epoch 26/50\n",
            "338/338 [==============================] - 4s 11ms/step - loss: 0.0049\n",
            "Epoch 27/50\n",
            "338/338 [==============================] - 4s 11ms/step - loss: 0.0044\n",
            "Epoch 28/50\n",
            "338/338 [==============================] - 4s 11ms/step - loss: 0.0043\n",
            "Epoch 29/50\n",
            "338/338 [==============================] - 4s 11ms/step - loss: 0.0052\n",
            "Epoch 30/50\n",
            "338/338 [==============================] - 4s 11ms/step - loss: 0.0047\n",
            "Epoch 31/50\n",
            "338/338 [==============================] - 4s 11ms/step - loss: 0.0044\n",
            "Epoch 32/50\n",
            "338/338 [==============================] - 4s 11ms/step - loss: 0.0042\n",
            "Epoch 33/50\n",
            "338/338 [==============================] - 4s 11ms/step - loss: 0.0046\n",
            "Epoch 34/50\n",
            "338/338 [==============================] - 4s 12ms/step - loss: 0.0046\n",
            "Epoch 35/50\n",
            "338/338 [==============================] - 4s 11ms/step - loss: 0.0043\n",
            "Epoch 36/50\n",
            "338/338 [==============================] - 4s 11ms/step - loss: 0.0037\n",
            "Epoch 37/50\n",
            "338/338 [==============================] - 4s 11ms/step - loss: 0.0039\n",
            "Epoch 38/50\n",
            "338/338 [==============================] - 4s 12ms/step - loss: 0.0042\n",
            "Epoch 39/50\n",
            "338/338 [==============================] - 4s 11ms/step - loss: 0.0039\n",
            "Epoch 40/50\n",
            "338/338 [==============================] - 4s 11ms/step - loss: 0.0041\n",
            "Epoch 41/50\n",
            "338/338 [==============================] - 4s 12ms/step - loss: 0.0048\n",
            "Epoch 42/50\n",
            "338/338 [==============================] - 4s 12ms/step - loss: 0.0041\n",
            "Epoch 43/50\n",
            "338/338 [==============================] - 4s 11ms/step - loss: 0.0043\n",
            "Epoch 44/50\n",
            "338/338 [==============================] - 4s 12ms/step - loss: 0.0042\n",
            "Epoch 45/50\n",
            "338/338 [==============================] - 4s 12ms/step - loss: 0.0037\n",
            "Epoch 46/50\n",
            "338/338 [==============================] - 4s 12ms/step - loss: 0.0040\n",
            "Epoch 47/50\n",
            "338/338 [==============================] - 4s 12ms/step - loss: 0.0038\n",
            "Epoch 48/50\n",
            "338/338 [==============================] - 4s 11ms/step - loss: 0.0045\n",
            "Epoch 49/50\n",
            "338/338 [==============================] - 4s 11ms/step - loss: 0.0039\n",
            "Epoch 50/50\n",
            "338/338 [==============================] - 4s 11ms/step - loss: 0.0036\n"
          ]
        }
      ]
    },
    {
      "cell_type": "markdown",
      "source": [
        "## Resultados"
      ],
      "metadata": {
        "id": "BSEdT_vUCZEL"
      }
    },
    {
      "cell_type": "code",
      "source": [
        "plt.figure(figsize=(10, 5))\n",
        "plt.plot(history.history['loss'], label='Entrenamiento')\n",
        "plt.title('Curva de Pérdida '+empresa)\n",
        "plt.xlabel('épocas')\n",
        "plt.ylabel('loss')\n",
        "plt.legend()\n",
        "plt.show()"
      ],
      "metadata": {
        "id": "dqCTMZlFItEY",
        "colab": {
          "base_uri": "https://localhost:8080/",
          "height": 350
        },
        "outputId": "c695da06-48c3-4994-d0e7-2b265a9bab5d"
      },
      "execution_count": 55,
      "outputs": [
        {
          "output_type": "display_data",
          "data": {
            "image/png": "[encoded data removed]",
            "text/plain": [
              "<Figure size 720x360 with 1 Axes>"
            ]
          },
          "metadata": {
            "needs_background": "light"
          }
        }
      ]
    },
    {
      "cell_type": "code",
      "source": [
        "# predicciones\n",
        "trainPredict = model.predict(trainX, batch_size=batch_size)\n",
        "model.reset_states()\n",
        "testPredict = model.predict(testX, batch_size=batch_size)\n",
        "\n",
        "# se invierten las predicciones\n",
        "trainPredict = scalerTrY.inverse_transform(trainPredict)\n",
        "trainYY = scalerTrY.inverse_transform([trainY])\n",
        "testPredict = scalerTeY.inverse_transform(testPredict)\n",
        "testYY = scalerTeY.inverse_transform([testY])\n",
        "\n",
        "\n",
        "# mean absolute error\n",
        "maeTr = mean_absolute_error(trainYY[0], trainPredict[:,0])\n",
        "print('Train MAE score: %.2f' % maeTr)\n",
        "maeTe = mean_absolute_error(testYY[0], testPredict[:,0])\n",
        "print('Test MAE score: %.2f' % maeTe)\n",
        "\n",
        "# mean squared error\n",
        "mseTr = mean_squared_error(trainYY[0], trainPredict[:,0])\n",
        "print('\\nTrain MSE score: %.2f' % mseTr)\n",
        "mseTe = mean_squared_error(testYY[0], testPredict[:,0])\n",
        "print('Test MSE score: %.2f' % mseTe)\n",
        "\n",
        "# root mean squared error\n",
        "trainScore = math.sqrt(mean_squared_error(trainYY[0], trainPredict[:,0]))\n",
        "print('\\nTrain RMSE score: %.2f' % (trainScore))\n",
        "testScore = math.sqrt(mean_squared_error(testYY[0], testPredict[:,0]))\n",
        "print('Test RMSE score: %.2f' % (testScore))\n",
        "\n",
        "# mean directional accuracy\n",
        "mda = mean_directional_accuracy(testYY[0], testPredict)\n",
        "print('\\nTest MDA score: ', \"{:.0%}\".format(mda))"
      ],
      "metadata": {
        "id": "46kLP9nlwAp0",
        "colab": {
          "base_uri": "https://localhost:8080/"
        },
        "outputId": "dcca0375-3950-4743-817d-5c6c295d4de1"
      },
      "execution_count": 56,
      "outputs": [
        {
          "output_type": "stream",
          "name": "stdout",
          "text": [
            "Train MAE score: 2.02\n",
            "Test MAE score: 6.87\n",
            "\n",
            "Train MSE score: 6.64\n",
            "Test MSE score: 88.69\n",
            "\n",
            "Train RMSE score: 2.58\n",
            "Test RMSE score: 9.42\n",
            "\n",
            "Test MDA score:  47%\n"
          ]
        }
      ]
    },
    {
      "cell_type": "code",
      "source": [
        "dsVLSTM"
      ],
      "metadata": {
        "colab": {
          "base_uri": "https://localhost:8080/"
        },
        "id": "rSWmR7_FjmS6",
        "outputId": "dc9321b4-784e-4931-ee3d-c63583ba8edc"
      },
      "execution_count": 57,
      "outputs": [
        {
          "output_type": "execute_result",
          "data": {
            "text/plain": [
              "array([[0, 62.71599960327149, 60.63999938964844, 59.486000061035156,\n",
              "        61.74800109863281, 61.33000183105469],\n",
              "       [0, 60.63999938964844, 59.486000061035156, 61.74800109863281,\n",
              "        61.33000183105469, 59.43600082397461],\n",
              "       [0, 59.486000061035156, 61.74800109863281, 61.33000183105469,\n",
              "        59.43600082397461, 58.03400039672852],\n",
              "       ...,\n",
              "       [0, 198.17999267578125, 196.42599487304688, 198.3580017089844,\n",
              "        200.79200744628903, 200.17999267578125],\n",
              "       [1, 196.42599487304688, 198.3580017089844, 200.79200744628903,\n",
              "        200.17999267578125, 198.86399841308597],\n",
              "       [0, 198.3580017089844, 200.79200744628903, 200.17999267578125,\n",
              "        198.86399841308597, 200.3560028076172]], dtype=object)"
            ]
          },
          "metadata": {},
          "execution_count": 57
        }
      ]
    },
    {
      "cell_type": "code",
      "source": [
        "ds"
      ],
      "metadata": {
        "id": "g-hNJJywkdq_"
      },
      "execution_count": null,
      "outputs": []
    },
    {
      "cell_type": "code",
      "source": [
        "i = 1\n",
        "columna = [fila[i] for fila in dataset]\n",
        "ds = np.array(columna)\n",
        "ds = ds.reshape(-1,1)\n",
        "\n",
        "trainPredictPlot = np.empty_like(ds)\n",
        "trainPredictPlot[:, :] = np.nan\n",
        "trainPredictPlot[dias:len(trainPredict)+dias, :] = trainPredict\n",
        "\n",
        "testPredictPlot = np.empty_like(ds)\n",
        "testPredictPlot[:, :] = np.nan\n",
        "testPredictPlot[len(trainPredict)+(dias):len(ds)-1, :] = testPredict\n",
        "\n",
        "# plot de los datos de entrada y las predicciones\n",
        "plt.figure(figsize=(15, 5))\n",
        "plt.plot(ds, label='Real')\n",
        "plt.title('Curva de entrenamiento y test '+empresa)\n",
        "plt.plot(trainPredictPlot, label=\"Entrenamiento\")\n",
        "plt.plot(testPredictPlot, label=\"Test\")\n",
        "plt.axvline(x=trainPredict.shape[0], c='r', linestyle='--')\n",
        "plt.xlabel('días')\n",
        "plt.ylabel('valor de la acción')\n",
        "plt.legend()\n",
        "plt.show()"
      ],
      "metadata": {
        "id": "qL1BoxcYqIXv",
        "outputId": "55937013-fa3c-44ea-f6a6-63bb2b745456",
        "colab": {
          "base_uri": "https://localhost:8080/",
          "height": 350
        }
      },
      "execution_count": 66,
      "outputs": [
        {
          "output_type": "display_data",
          "data": {
            "image/png": "[encoded data removed]",
            "text/plain": [
              "<Figure size 1080x360 with 1 Axes>"
            ]
          },
          "metadata": {
            "needs_background": "light"
          }
        }
      ]
    }
  ]
}