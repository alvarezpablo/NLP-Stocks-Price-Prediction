{
  "nbformat": 4,
  "nbformat_minor": 0,
  "metadata": {
    "colab": {
      "name": "Tesis-LSTM DESA.ipynb",
      "provenance": [],
      "include_colab_link": true
    },
    "kernelspec": {
      "name": "python3",
      "display_name": "Python 3"
    },
    "language_info": {
      "name": "python"
    }
  },
  "cells": [
    {
      "cell_type": "markdown",
      "metadata": {
        "id": "view-in-github",
        "colab_type": "text"
      },
      "source": [
        "<a href=\"https://colab.research.google.com/github/alvarezpablo/NLP-Stocks-Price-Prediction/blob/main/Tesis_LSTM_DESA.ipynb\" target=\"_parent\"><img src=\"https://colab.research.google.com/assets/colab-badge.svg\" alt=\"Open In Colab\"/></a>"
      ]
    },
    {
      "cell_type": "code",
      "execution_count": 1,
      "metadata": {
        "id": "YNUWmp-Z3VnV"
      },
      "outputs": [],
      "source": [
        "import numpy as np\n",
        "import matplotlib.pyplot as plt\n",
        "import pandas as pd\n",
        "import math\n",
        "from keras.models import Sequential\n",
        "from keras.layers import Dense\n",
        "from keras.layers import LSTM\n",
        "from keras.layers import Dropout\n",
        "from sklearn.preprocessing import MinMaxScaler\n",
        "from sklearn.metrics import mean_squared_error\n",
        "from sklearn.metrics import mean_absolute_error\n",
        "from datetime import datetime\n",
        "from datetime import timedelta\n",
        "from google.colab import drive"
      ]
    },
    {
      "cell_type": "markdown",
      "source": [
        "## Configuración para la ejecución"
      ],
      "metadata": {
        "id": "5lXOBb02Btcn"
      }
    },
    {
      "cell_type": "code",
      "source": [
        "#empresa = 'NETFLIX'\n",
        "#empresa = 'AMAZON'\n",
        "#empresa = 'APPLE'\n",
        "#empresa = 'GOOGLE'\n",
        "#empresa = 'ACME'\n",
        "\n",
        "empresa = 'TESLA'\n",
        "#empresa = 'FACEBOOK'\n",
        "epochs = 10"
      ],
      "metadata": {
        "id": "kL7ZtmCgByvF"
      },
      "execution_count": 2,
      "outputs": []
    },
    {
      "cell_type": "markdown",
      "source": [
        "## Rutinas"
      ],
      "metadata": {
        "id": "8URhp_cPCAPu"
      }
    },
    {
      "cell_type": "code",
      "source": [
        "# convierte los datos de entrada en una matriz con la ventana de tiempo\n",
        "def createDSWindows(dataset, ventana):\n",
        "  dataX, dataY, dataK, a = [], [], [], []\n",
        "  for i in range(len(dataset)-ventana-1):\n",
        "    a = dataset[i:(i+ventana), 1]\n",
        "    b = dataset[i, 0]\n",
        "    d = dataset[i,3]\n",
        "    c = np.concatenate((b,a), axis=None)\n",
        "#    c = np.concatenate((c,d), axis=None)\n",
        "    dataX.append(c)\n",
        "    dataY.append(dataset[i + ventana, 1])\n",
        "    dataK.append(d)\n",
        "  \n",
        "  return np.array(dataX), np.array(dataY), np.array(dataK)\n",
        "\n",
        "#retorna el proximo día (desde una fecha) sin considerar fines de semana \n",
        "def nextDay(fecha):\n",
        "  proximo = str((datetime.strptime(fecha,\"%Y-%m-%d\")+timedelta(days=+1)).strftime(\"%Y-%m-%d\"))\n",
        "  dia = datetime.strptime(proximo,\"%Y-%m-%d\").weekday()\n",
        "  if dia == 5:\n",
        "    proximo = str((datetime.strptime(fecha,\"%Y-%m-%d\")+timedelta(days=+3)).strftime(\"%Y-%m-%d\"))\n",
        "  elif dia == 6:\n",
        "    proximo = str((datetime.strptime(fecha,\"%Y-%m-%d\")+timedelta(days=+2)).strftime(\"%Y-%m-%d\"))\n",
        "  else:\n",
        "    proximo = str((datetime.strptime(fecha,\"%Y-%m-%d\")+timedelta(days=+1)).strftime(\"%Y-%m-%d\"))\n",
        "  return proximo\n",
        "\n",
        "def getPolaridad(fecha, dataframe, delta):\n",
        "  proximo = str((datetime.strptime(fecha,\"%Y-%m-%d\")+timedelta(days=+delta)).strftime(\"%Y-%m-%d\"))\n",
        "  df = dataframe\n",
        "  df = df.set_index('Date')\n",
        "  try:\n",
        "    polaridad = df.loc[[proximo], ['label']]\n",
        "  except:\n",
        "    return getPolaridad(fecha, dataframe, delta-1)\n",
        "  return polaridad.iloc[0,0]\n",
        "\n",
        "def setRows(dataframe):\n",
        "  fecha = []\n",
        "  polaridad = []\n",
        "  valor = []\n",
        "  vsemana = []\n",
        "  mensajes = []\n",
        "  for i in range(len(dataframe)):\n",
        "    f = dataframe.iloc[i,0]\n",
        "    p = dataframe.iloc[i,1]\n",
        "    v = dataframe.iloc[i,2]\n",
        "    vs = dataframe.iloc[i,3]\n",
        "    m = dataframe.iloc[i,4]\n",
        "    try:\n",
        "      b = dataframe.iloc[i+1,0]\n",
        "      next = nextDay(f)\n",
        "      if next == b:\n",
        "        fecha.append(f)\n",
        "        polaridad.append(p)\n",
        "        valor.append(v)\n",
        "        vsemana.append(vs)\n",
        "        mensajes.append(m)\n",
        "      else: #este caso se da cuando en el dataset no esta el día; feriado\n",
        "        fecha.append(f)\n",
        "        fecha.append(next)\n",
        "        polaridad.append(p)\n",
        "        valor.append(v)\n",
        "        vsemana.append(vs)\n",
        "        mensajes.append(m)\n",
        "        polaridad.append(getPolaridad(next,dataframe,7))\n",
        "        valor.append(v)\n",
        "        vsemana.append(vs)\n",
        "        mensajes.append(m)\n",
        "    except: #este caso se da cuando en el dataset no está la polaridad de la fecha que se busca, en ese caso, se usa la polaridad anterior\n",
        "      fecha.append(f)\n",
        "      polaridad.append(p)\n",
        "      valor.append(v)\n",
        "      vsemana.append(vs)\n",
        "      mensajes.append(m)\n",
        "    \n",
        "    frame = {'Fecha':fecha, 'Polaridad':polaridad, 'Valor':valor, 'VSemana':vsemana, 'Mensajes':mensajes}\n",
        "    df = pd.DataFrame(frame)\n",
        "    df = df.set_index('Fecha')\n",
        "\n",
        "  return df\n",
        "\n",
        "def getNombreArchivo(accion):\n",
        "  empresa = ['TESLA', 'GOOGLE', 'FACEBOOK', 'APPLE', 'AMAZON', 'NETFLIX']\n",
        "  archivo = ['TSLA_label2.1.csv','GOOGL_label2.1.csv','FB_label2.1.csv','AAPL_label2.1.csv','AMZN_label2.1.csv','NFLX_label2.1.csv']\n",
        "  frame = {'Empresa':empresa, 'Archivo':archivo}\n",
        "  df =pd.DataFrame(frame)\n",
        "  df = df.set_index('Empresa')\n",
        "  archivo = df.loc[[accion],['Archivo']].values[0][0]\n",
        "  return archivo\n",
        "\n",
        "def mean_directional_accuracy(actual: np.ndarray, predicted: np.ndarray):\n",
        "  return np.mean((np.sign(actual[1:] - actual[:-1]) == np.sign(predicted[1:] - predicted[:-1])).astype(int))"
      ],
      "metadata": {
        "id": "ZKSBvkKdKxKN"
      },
      "execution_count": 3,
      "outputs": []
    },
    {
      "cell_type": "markdown",
      "source": [
        "## Preparación del dataset"
      ],
      "metadata": {
        "id": "TbAYUHTmBNCE"
      }
    },
    {
      "cell_type": "code",
      "source": [
        "# fix random seed\n",
        "np.random.seed(7)\n",
        "\n",
        "# carga del dataset\n",
        "drive.mount('/gdrive')\n",
        "%cd '/gdrive/MyDrive/Magister IA/Tesis/Data/'\n",
        "\n",
        "archivo = getNombreArchivo(empresa)\n",
        "df = pd.read_csv(archivo, index_col=False)\n",
        "df.drop(df[df['Date'] < '2018-07-20'].index, inplace=True)\n",
        "df.drop(df[df['Date'] > '2020-06-26'].index, inplace=True)\n",
        "#df = df.drop(['symbol','message','datetime','user','message_id','Time', 'stock_price_1week'], axis='columns')\n",
        "#df = df.drop(['symbol','message','datetime','user','message_id','Time'], axis='columns')\n",
        "df = df.drop(['symbol','datetime','user','message_id','Time'], axis='columns')\n",
        "#df.reset_index(level=0, inplace=True)\n",
        "\n",
        "df=df.groupby(['Date', 'label', 'stock_price', 'stock_price_1week'])['message'].apply(' '.join).reset_index()\n",
        "#df = df.set_index('Date')\n",
        "#feriado = df.loc[['2019-01-01'], ['label', 'message']]\n",
        "#feriado\n",
        "#df\n"
      ],
      "metadata": {
        "colab": {
          "base_uri": "https://localhost:8080/"
        },
        "id": "UBJ3JSwXKmhV",
        "outputId": "ab634899-3287-4c61-891e-9ba00f1f092b"
      },
      "execution_count": 4,
      "outputs": [
        {
          "output_type": "stream",
          "name": "stdout",
          "text": [
            "Drive already mounted at /gdrive; to attempt to forcibly remount, call drive.mount(\"/gdrive\", force_remount=True).\n",
            "/gdrive/MyDrive/Magister IA/Tesis/Data\n"
          ]
        }
      ]
    },
    {
      "cell_type": "code",
      "source": [
        "#train_data=train_data.groupby(['symbol','Date', 'label', 'stock_price', 'stock_price_1week'])['message'].apply(' '.join).reset_index()\n",
        "\n",
        "\n",
        "#df = df.groupby(by=['Date']).mean()\n",
        "df['label'] = df['label'].map({-1:0, 1:1, 0:0}, na_action=None)\n",
        "#df.reset_index(level=0, inplace=True)\n",
        "\n",
        "\n",
        "# se consideran 5 días por semana, ya que en el data set no están los fines de semana\n",
        "dias = 5\n",
        "#la ventana debería ser igual a días. Sin embargo, hay un dato adicional en el dataset; que es la polaridad. Por eso se agrega 1 al tamaño de la ventana \n",
        "ventana = dias+1\n",
        "\n",
        "newDF = setRows(df)\n",
        "newDF.isnull().sum()\n",
        "#feriado = newDF.loc[['2018-12-31','2019-01-01','2019-01-02'], ['Valor', 'Polaridad','VSemana', 'Mensajes']]\n",
        "#feriado\n",
        "newDF"
      ],
      "metadata": {
        "colab": {
          "base_uri": "https://localhost:8080/",
          "height": 455
        },
        "id": "oe_iVEcUh_wq",
        "outputId": "e97fb1a5-a2a6-4048-dd34-a22d52c5df60"
      },
      "execution_count": 5,
      "outputs": [
        {
          "output_type": "execute_result",
          "data": {
            "text/html": [
              "<div>\n",
              "<style scoped>\n",
              "    .dataframe tbody tr th:only-of-type {\n",
              "        vertical-align: middle;\n",
              "    }\n",
              "\n",
              "    .dataframe tbody tr th {\n",
              "        vertical-align: top;\n",
              "    }\n",
              "\n",
              "    .dataframe thead th {\n",
              "        text-align: right;\n",
              "    }\n",
              "</style>\n",
              "<table border=\"1\" class=\"dataframe\">\n",
              "  <thead>\n",
              "    <tr style=\"text-align: right;\">\n",
              "      <th></th>\n",
              "      <th>Polaridad</th>\n",
              "      <th>Valor</th>\n",
              "      <th>VSemana</th>\n",
              "      <th>Mensajes</th>\n",
              "    </tr>\n",
              "    <tr>\n",
              "      <th>Fecha</th>\n",
              "      <th></th>\n",
              "      <th></th>\n",
              "      <th></th>\n",
              "      <th></th>\n",
              "    </tr>\n",
              "  </thead>\n",
              "  <tbody>\n",
              "    <tr>\n",
              "      <th>2018-07-20</th>\n",
              "      <td>0</td>\n",
              "      <td>62.716000</td>\n",
              "      <td>59.436001</td>\n",
              "      <td>tsla shorts nutso mad getting good tsla crown ...</td>\n",
              "    </tr>\n",
              "    <tr>\n",
              "      <th>2018-07-23</th>\n",
              "      <td>0</td>\n",
              "      <td>60.639999</td>\n",
              "      <td>58.034000</td>\n",
              "      <td>tsla wait 4 announcement bmw toyota saying adv...</td>\n",
              "    </tr>\n",
              "    <tr>\n",
              "      <th>2018-07-24</th>\n",
              "      <td>0</td>\n",
              "      <td>59.486000</td>\n",
              "      <td>59.627998</td>\n",
              "      <td>39 say even lack insight comprehend insult goo...</td>\n",
              "    </tr>\n",
              "    <tr>\n",
              "      <th>2018-07-25</th>\n",
              "      <td>0</td>\n",
              "      <td>61.748001</td>\n",
              "      <td>60.167999</td>\n",
              "      <td>tsla stock within correction showing 5 swings ...</td>\n",
              "    </tr>\n",
              "    <tr>\n",
              "      <th>2018-07-26</th>\n",
              "      <td>1</td>\n",
              "      <td>61.330002</td>\n",
              "      <td>69.907997</td>\n",
              "      <td>pypl twtr tsla msft teva gs tsla stayed headli...</td>\n",
              "    </tr>\n",
              "    <tr>\n",
              "      <th>...</th>\n",
              "      <td>...</td>\n",
              "      <td>...</td>\n",
              "      <td>...</td>\n",
              "      <td>...</td>\n",
              "    </tr>\n",
              "    <tr>\n",
              "      <th>2020-06-19</th>\n",
              "      <td>0</td>\n",
              "      <td>200.179993</td>\n",
              "      <td>191.947998</td>\n",
              "      <td>tsla brk tsla look yah catch tsla hey doin tsl...</td>\n",
              "    </tr>\n",
              "    <tr>\n",
              "      <th>2020-06-22</th>\n",
              "      <td>1</td>\n",
              "      <td>198.863998</td>\n",
              "      <td>201.869995</td>\n",
              "      <td>tsla tesla cfo live webcam tsla seriously bull...</td>\n",
              "    </tr>\n",
              "    <tr>\n",
              "      <th>2020-06-23</th>\n",
              "      <td>1</td>\n",
              "      <td>200.356003</td>\n",
              "      <td>215.962006</td>\n",
              "      <td>tsla trouble staying north 100 tsla give lil n...</td>\n",
              "    </tr>\n",
              "    <tr>\n",
              "      <th>2020-06-24</th>\n",
              "      <td>1</td>\n",
              "      <td>192.169998</td>\n",
              "      <td>223.925995</td>\n",
              "      <td>msft tsla ohh man I buy 70 k sucker tmrw promi...</td>\n",
              "    </tr>\n",
              "    <tr>\n",
              "      <th>2020-06-25</th>\n",
              "      <td>1</td>\n",
              "      <td>197.195999</td>\n",
              "      <td>241.731995</td>\n",
              "      <td>spy aal azul gol tsla powell press activated 4...</td>\n",
              "    </tr>\n",
              "  </tbody>\n",
              "</table>\n",
              "<p>505 rows × 4 columns</p>\n",
              "</div>"
            ],
            "text/plain": [
              "            Polaridad  ...                                           Mensajes\n",
              "Fecha                  ...                                                   \n",
              "2018-07-20          0  ...  tsla shorts nutso mad getting good tsla crown ...\n",
              "2018-07-23          0  ...  tsla wait 4 announcement bmw toyota saying adv...\n",
              "2018-07-24          0  ...  39 say even lack insight comprehend insult goo...\n",
              "2018-07-25          0  ...  tsla stock within correction showing 5 swings ...\n",
              "2018-07-26          1  ...  pypl twtr tsla msft teva gs tsla stayed headli...\n",
              "...               ...  ...                                                ...\n",
              "2020-06-19          0  ...  tsla brk tsla look yah catch tsla hey doin tsl...\n",
              "2020-06-22          1  ...  tsla tesla cfo live webcam tsla seriously bull...\n",
              "2020-06-23          1  ...  tsla trouble staying north 100 tsla give lil n...\n",
              "2020-06-24          1  ...  msft tsla ohh man I buy 70 k sucker tmrw promi...\n",
              "2020-06-25          1  ...  spy aal azul gol tsla powell press activated 4...\n",
              "\n",
              "[505 rows x 4 columns]"
            ]
          },
          "metadata": {},
          "execution_count": 5
        }
      ]
    },
    {
      "cell_type": "code",
      "source": [
        "#newDF = newDF.drop(['Mensajes'], axis='columns')\n",
        "#newDF\n"
      ],
      "metadata": {
        "id": "e2d210r0MV8u"
      },
      "execution_count": 6,
      "outputs": []
    },
    {
      "cell_type": "code",
      "source": [
        "dataset = newDF.values\n",
        "dsVLSTM, dsOLSTM, dsMBERT = createDSWindows(dataset, dias)\n",
        "\n",
        "#dsVLSTM\n",
        "#dsOLSTM\n",
        "#dsMBERT"
      ],
      "metadata": {
        "id": "61R8LhLpbnCr"
      },
      "execution_count": 7,
      "outputs": []
    },
    {
      "cell_type": "code",
      "source": [
        "dsVLSTM"
      ],
      "metadata": {
        "colab": {
          "base_uri": "https://localhost:8080/"
        },
        "id": "Fojf3u5GfZK5",
        "outputId": "6fd4bffa-f5e5-43bc-8f1c-4b6651b1005d"
      },
      "execution_count": 8,
      "outputs": [
        {
          "output_type": "execute_result",
          "data": {
            "text/plain": [
              "array([[0, 62.71599960327149, 60.63999938964844, 59.486000061035156,\n",
              "        61.74800109863281, 61.33000183105469],\n",
              "       [0, 60.63999938964844, 59.486000061035156, 61.74800109863281,\n",
              "        61.33000183105469, 59.43600082397461],\n",
              "       [0, 59.486000061035156, 61.74800109863281, 61.33000183105469,\n",
              "        59.43600082397461, 58.03400039672852],\n",
              "       ...,\n",
              "       [0, 198.17999267578125, 196.42599487304688, 198.3580017089844,\n",
              "        200.79200744628903, 200.17999267578125],\n",
              "       [1, 196.42599487304688, 198.3580017089844, 200.79200744628903,\n",
              "        200.17999267578125, 198.86399841308597],\n",
              "       [0, 198.3580017089844, 200.79200744628903, 200.17999267578125,\n",
              "        198.86399841308597, 200.3560028076172]], dtype=object)"
            ]
          },
          "metadata": {},
          "execution_count": 8
        }
      ]
    },
    {
      "cell_type": "code",
      "source": [
        "#dataset = newDF.values\n",
        "#dsVLSTM_M, dsOLSTM = createDSWindows(dataset, dias)\n",
        "\n",
        "# split train y test sets\n",
        "train_size = int(len(dataset) * 0.67)\n",
        "test_size = len(dataset) - train_size\n",
        "trainVLSTM, testVLSTM = dsVLSTM[0:train_size,:], dsVLSTM[train_size:len(dataset),:]\n",
        "trainOLSTM, testOLSTM = dsOLSTM[0:train_size], dsOLSTM[train_size:len(dataset)]\n",
        "trainMBERT, testMBERT = dsMBERT[0:train_size], dsMBERT[train_size:len(dataset)]\n",
        "\n",
        "#trainVLSTM\n",
        "#trainOLSTM\n",
        "#testOLSTM\n",
        "#testMBERT"
      ],
      "metadata": {
        "id": "K6B8lAALrsx9"
      },
      "execution_count": 9,
      "outputs": []
    },
    {
      "cell_type": "code",
      "source": [
        "#dataset = newDF.values\n",
        "#dataset = dataset.astype('float32')\n",
        "\n",
        "\n",
        "# split train y test sets\n",
        "#train_size = int(len(dataset) * 0.67)\n",
        "#test_size = len(dataset) - train_size\n",
        "#train, test = dataset[0:train_size,:], dataset[train_size:len(dataset),:]\n",
        "\n",
        "# reshape para la ventana\n",
        "trainX = trainVLSTM\n",
        "trainY = trainOLSTM\n",
        "testX = testVLSTM\n",
        "testY = testOLSTM\n",
        "\n",
        "# normalización de los sub-datasets\n",
        "scalerTrX = MinMaxScaler(feature_range=(0, 1))\n",
        "scalerTrY = MinMaxScaler(feature_range=(0, 1))\n",
        "scalerTeX = MinMaxScaler(feature_range=(0, 1))\n",
        "scalerTeY = MinMaxScaler(feature_range=(0, 1))\n",
        "\n",
        "trainX = scalerTrX.fit_transform(trainX)\n",
        "testX = scalerTeX.fit_transform(testX)\n",
        "\n",
        "trainY = trainY.reshape(-1,1)\n",
        "testY = testY.reshape(-1,1)\n",
        "\n",
        "trainY = scalerTrY.fit_transform(trainY)\n",
        "testY = scalerTeY.fit_transform(testY)\n",
        "\n",
        "trainY = trainY.flatten('F')\n",
        "testY = testY.flatten('F')\n",
        "\n",
        "# reshape [samples, time steps, features]\n",
        "trainX = np.reshape(trainX, (trainX.shape[0], trainX.shape[1], 1))\n",
        "testX = np.reshape(testX, (testX.shape[0], testX.shape[1], 1))\n",
        "\n",
        "trainX"
      ],
      "metadata": {
        "id": "n3soLRmP4TjU",
        "colab": {
          "base_uri": "https://localhost:8080/"
        },
        "outputId": "15ba7fb3-601c-4146-a7c5-2600d1cfb5c3"
      },
      "execution_count": 10,
      "outputs": [
        {
          "output_type": "execute_result",
          "data": {
            "text/plain": [
              "array([[[0.        ],\n",
              "        [0.67103687],\n",
              "        [0.6192921 ],\n",
              "        [0.59052841],\n",
              "        [0.64690929],\n",
              "        [0.63649056]],\n",
              "\n",
              "       [[0.        ],\n",
              "        [0.6192921 ],\n",
              "        [0.59052841],\n",
              "        [0.64690929],\n",
              "        [0.63649056],\n",
              "        [0.58928217]],\n",
              "\n",
              "       [[0.        ],\n",
              "        [0.59052841],\n",
              "        [0.64690929],\n",
              "        [0.63649056],\n",
              "        [0.58928217],\n",
              "        [0.55433699]],\n",
              "\n",
              "       ...,\n",
              "\n",
              "       [[1.        ],\n",
              "        [0.66969088],\n",
              "        [0.69042869],\n",
              "        [0.68918244],\n",
              "        [0.7358425 ],\n",
              "        [0.7805085 ]],\n",
              "\n",
              "       [[1.        ],\n",
              "        [0.69042869],\n",
              "        [0.68918244],\n",
              "        [0.7358425 ],\n",
              "        [0.7805085 ],\n",
              "        [0.78848456]],\n",
              "\n",
              "       [[1.        ],\n",
              "        [0.68918244],\n",
              "        [0.7358425 ],\n",
              "        [0.7805085 ],\n",
              "        [0.78848456],\n",
              "        [0.82811557]]])"
            ]
          },
          "metadata": {},
          "execution_count": 10
        }
      ]
    },
    {
      "cell_type": "markdown",
      "source": [
        "## Configuración y ejecución de la LSTM"
      ],
      "metadata": {
        "id": "8quknDSEBX7F"
      }
    },
    {
      "cell_type": "code",
      "source": [
        "batch_size = 1\n",
        "model = Sequential()\n",
        "model.add(LSTM(units = 100, return_sequences = True, batch_input_shape=(batch_size, ventana, 1)))\n",
        "model.add(Dropout(0.2))\n",
        "model.add(LSTM(units = 100, return_sequences = True))\n",
        "model.add(Dropout(0.2))\n",
        "model.add(LSTM(units = 100, return_sequences = True))\n",
        "model.add(Dropout(0.2))\n",
        "model.add(LSTM(units = 100))\n",
        "model.add(Dropout(0.2))\n",
        "model.add(Dense(units = 1))\n",
        "\n",
        "model.compile(loss='mean_squared_error', optimizer='adam')\n",
        "history = model.fit(trainX, trainY, epochs=epochs, batch_size=batch_size)"
      ],
      "metadata": {
        "id": "N-yoKldz5ppd",
        "colab": {
          "base_uri": "https://localhost:8080/"
        },
        "outputId": "7d746432-7d4a-4974-8097-5e10154e69fe"
      },
      "execution_count": 11,
      "outputs": [
        {
          "output_type": "stream",
          "name": "stdout",
          "text": [
            "Epoch 1/10\n",
            "338/338 [==============================] - 12s 12ms/step - loss: 0.0371\n",
            "Epoch 2/10\n",
            "338/338 [==============================] - 4s 12ms/step - loss: 0.0109\n",
            "Epoch 3/10\n",
            "338/338 [==============================] - 4s 11ms/step - loss: 0.0098\n",
            "Epoch 4/10\n",
            "338/338 [==============================] - 4s 12ms/step - loss: 0.0085\n",
            "Epoch 5/10\n",
            "338/338 [==============================] - 4s 12ms/step - loss: 0.0069\n",
            "Epoch 6/10\n",
            "338/338 [==============================] - 4s 12ms/step - loss: 0.0073\n",
            "Epoch 7/10\n",
            "338/338 [==============================] - 4s 12ms/step - loss: 0.0066\n",
            "Epoch 8/10\n",
            "338/338 [==============================] - 4s 11ms/step - loss: 0.0070\n",
            "Epoch 9/10\n",
            "338/338 [==============================] - 4s 11ms/step - loss: 0.0064\n",
            "Epoch 10/10\n",
            "338/338 [==============================] - 4s 11ms/step - loss: 0.0067\n"
          ]
        }
      ]
    },
    {
      "cell_type": "markdown",
      "source": [
        "## Resultados"
      ],
      "metadata": {
        "id": "BSEdT_vUCZEL"
      }
    },
    {
      "cell_type": "code",
      "source": [
        "plt.figure(figsize=(10, 5))\n",
        "plt.plot(history.history['loss'], label='Entrenamiento')\n",
        "plt.title('Curva de Pérdida '+empresa)\n",
        "plt.xlabel('épocas')\n",
        "plt.ylabel('loss')\n",
        "plt.legend()\n",
        "plt.show()"
      ],
      "metadata": {
        "id": "dqCTMZlFItEY",
        "colab": {
          "base_uri": "https://localhost:8080/",
          "height": 350
        },
        "outputId": "35780091-26bf-46cb-8eb2-455c578c5a96"
      },
      "execution_count": 12,
      "outputs": [
        {
          "output_type": "display_data",
          "data": {
            "image/png": "[encoded data removed]",
            "text/plain": [
              "<Figure size 720x360 with 1 Axes>"
            ]
          },
          "metadata": {
            "needs_background": "light"
          }
        }
      ]
    },
    {
      "cell_type": "code",
      "source": [
        "# predicciones\n",
        "trainPredict = model.predict(trainX, batch_size=batch_size)\n",
        "model.reset_states()\n",
        "testPredict = model.predict(testX, batch_size=batch_size)\n",
        "\n",
        "# se invierten las predicciones\n",
        "trainPredict = scalerTrY.inverse_transform(trainPredict)\n",
        "trainYY = scalerTrY.inverse_transform([trainY])\n",
        "testPredict = scalerTeY.inverse_transform(testPredict)\n",
        "testYY = scalerTeY.inverse_transform([testY])\n",
        "\n",
        "\n",
        "# mean absolute error\n",
        "maeTr = mean_absolute_error(trainYY[0], trainPredict[:,0])\n",
        "print('Train MAE score: %.2f' % maeTr)\n",
        "maeTe = mean_absolute_error(testYY[0], testPredict[:,0])\n",
        "print('Test MAE score: %.2f' % maeTe)\n",
        "\n",
        "# mean squared error\n",
        "mseTr = mean_squared_error(trainYY[0], trainPredict[:,0])\n",
        "print('\\nTrain MSE score: %.2f' % mseTr)\n",
        "mseTe = mean_squared_error(testYY[0], testPredict[:,0])\n",
        "print('Test MSE score: %.2f' % mseTe)\n",
        "\n",
        "# root mean squared error\n",
        "trainScore = math.sqrt(mean_squared_error(trainYY[0], trainPredict[:,0]))\n",
        "print('\\nTrain RMSE score: %.2f' % (trainScore))\n",
        "testScore = math.sqrt(mean_squared_error(testYY[0], testPredict[:,0]))\n",
        "print('Test RMSE score: %.2f' % (testScore))\n",
        "\n",
        "# mean directional accuracy\n",
        "mda = mean_directional_accuracy(testYY[0], testPredict)\n",
        "print('\\nTest MDA score: ', \"{:.0%}\".format(mda))"
      ],
      "metadata": {
        "id": "46kLP9nlwAp0",
        "colab": {
          "base_uri": "https://localhost:8080/"
        },
        "outputId": "2b1cc878-2cf3-4fe7-ffe4-4d098290e4b7"
      },
      "execution_count": 13,
      "outputs": [
        {
          "output_type": "stream",
          "name": "stdout",
          "text": [
            "Train MAE score: 1.63\n",
            "Test MAE score: 6.33\n",
            "\n",
            "Train MSE score: 5.03\n",
            "Test MSE score: 76.42\n",
            "\n",
            "Train RMSE score: 2.24\n",
            "Test RMSE score: 8.74\n",
            "\n",
            "Test MDA score:  48%\n"
          ]
        }
      ]
    },
    {
      "cell_type": "code",
      "source": [
        "dsVLSTM"
      ],
      "metadata": {
        "id": "rSWmR7_FjmS6",
        "outputId": "b1d7232c-0d57-4265-e6b1-864dba5fe30c",
        "colab": {
          "base_uri": "https://localhost:8080/"
        }
      },
      "execution_count": 23,
      "outputs": [
        {
          "output_type": "execute_result",
          "data": {
            "text/plain": [
              "array([[0, 62.71599960327149, 60.63999938964844, 59.486000061035156,\n",
              "        61.74800109863281, 61.33000183105469],\n",
              "       [0, 60.63999938964844, 59.486000061035156, 61.74800109863281,\n",
              "        61.33000183105469, 59.43600082397461],\n",
              "       [0, 59.486000061035156, 61.74800109863281, 61.33000183105469,\n",
              "        59.43600082397461, 58.03400039672852],\n",
              "       ...,\n",
              "       [0, 198.17999267578125, 196.42599487304688, 198.3580017089844,\n",
              "        200.79200744628903, 200.17999267578125],\n",
              "       [1, 196.42599487304688, 198.3580017089844, 200.79200744628903,\n",
              "        200.17999267578125, 198.86399841308597],\n",
              "       [0, 198.3580017089844, 200.79200744628903, 200.17999267578125,\n",
              "        198.86399841308597, 200.3560028076172]], dtype=object)"
            ]
          },
          "metadata": {},
          "execution_count": 23
        }
      ]
    },
    {
      "cell_type": "code",
      "source": [
        "#transformación para graficar los resultados\n",
        "i = 1\n",
        "columna = [fila[i] for fila in dsVLSTM]\n",
        "ds = np.array(columna)\n",
        "ds = ds.reshape(-1,1)\n",
        "#print(ds.shape)\n",
        "trainPredictPlot = np.empty_like(ds)\n",
        "trainPredictPlot[:, :] = np.nan\n",
        "trainPredictPlot[0:len(trainPredict), :] = trainPredict\n",
        "\n",
        "#print(testPredict.shape)\n",
        "testPredictPlot = np.empty_like(ds)\n",
        "testPredictPlot[:, :] = np.nan\n",
        "testPredictPlot[len(trainPredict):len(trainPredict)+161, :] = testPredict\n",
        "\n",
        "# plot de los datos de entrada y las predicciones\n",
        "plt.figure(figsize=(15, 5))\n",
        "plt.plot(ds, label='Real')\n",
        "plt.title('Curva de entrenamiento y test '+empresa)\n",
        "plt.plot(trainPredictPlot, label=\"Entrenamiento\")\n",
        "plt.plot(testPredictPlot, label=\"Test\")\n",
        "plt.axvline(x=trainPredict.shape[0], c='r', linestyle='--')\n",
        "plt.xlabel('días')\n",
        "plt.ylabel('valor de la acción')\n",
        "plt.legend()\n",
        "plt.show()"
      ],
      "metadata": {
        "id": "7wDWHCKpiL8e",
        "colab": {
          "base_uri": "https://localhost:8080/",
          "height": 350
        },
        "outputId": "8be35647-995f-42e2-e877-120c24c267bc"
      },
      "execution_count": 43,
      "outputs": [
        {
          "output_type": "display_data",
          "data": {
            "image/png": "[encoded data removed]",
            "text/plain": [
              "<Figure size 1080x360 with 1 Axes>"
            ]
          },
          "metadata": {
            "needs_background": "light"
          }
        }
      ]
    },
    {
      "cell_type": "code",
      "source": [
        "ds"
      ],
      "metadata": {
        "id": "g-hNJJywkdq_"
      },
      "execution_count": null,
      "outputs": []
    }
  ]
}