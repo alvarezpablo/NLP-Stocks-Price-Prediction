{
  "nbformat": 4,
  "nbformat_minor": 0,
  "metadata": {
    "colab": {
      "name": "Tesis-LSTM DESA.ipynb",
      "provenance": [],
      "include_colab_link": true
    },
    "kernelspec": {
      "name": "python3",
      "display_name": "Python 3"
    },
    "language_info": {
      "name": "python"
    }
  },
  "cells": [
    {
      "cell_type": "markdown",
      "metadata": {
        "id": "view-in-github",
        "colab_type": "text"
      },
      "source": [
        "<a href=\"https://colab.research.google.com/github/alvarezpablo/NLP-Stocks-Price-Prediction/blob/main/Tesis_LSTM_DESA.ipynb\" target=\"_parent\"><img src=\"https://colab.research.google.com/assets/colab-badge.svg\" alt=\"Open In Colab\"/></a>"
      ]
    },
    {
      "cell_type": "code",
      "execution_count": 73,
      "metadata": {
        "id": "YNUWmp-Z3VnV"
      },
      "outputs": [],
      "source": [
        "import numpy as np\n",
        "import matplotlib.pyplot as plt\n",
        "import pandas as pd\n",
        "import math\n",
        "from keras.models import Sequential\n",
        "from keras.layers import Dense\n",
        "from keras.layers import LSTM\n",
        "from keras.layers import Dropout\n",
        "from sklearn.preprocessing import MinMaxScaler\n",
        "from sklearn.metrics import mean_squared_error\n",
        "from sklearn.metrics import mean_absolute_error\n",
        "from datetime import datetime\n",
        "from datetime import timedelta\n",
        "from google.colab import drive"
      ]
    },
    {
      "cell_type": "markdown",
      "source": [
        "## Configuración para la ejecución"
      ],
      "metadata": {
        "id": "5lXOBb02Btcn"
      }
    },
    {
      "cell_type": "code",
      "source": [
        "#empresa = 'NETFLIX'\n",
        "#empresa = 'AMAZON'\n",
        "#empresa = 'APPLE'\n",
        "#empresa = 'GOOGLE'\n",
        "empresa = 'TESLA'\n",
        "#empresa = 'FACEBOOK'\n",
        "epochs = 10\n",
        "polaridad = True\n",
        "#polaridad = False"
      ],
      "metadata": {
        "id": "kL7ZtmCgByvF"
      },
      "execution_count": 74,
      "outputs": []
    },
    {
      "cell_type": "markdown",
      "source": [
        "## Rutinas"
      ],
      "metadata": {
        "id": "8URhp_cPCAPu"
      }
    },
    {
      "cell_type": "code",
      "source": [
        "# convierte los datos de entrada en una matriz con la ventana de tiempo\n",
        "def createDSWindows(dataset, ventana):\n",
        "  dataX, dataY, dataK, c = [], [], [], []\n",
        "  for i in range(len(dataset)-ventana-1):\n",
        "    a = dataset[i:(i+ventana), 1]\n",
        "    b = dataset[i, 0]\n",
        "    d = dataset[i,3]\n",
        "    if polaridad:\n",
        "      c = np.concatenate((a,b), axis=None)\n",
        "      dataX.append(c)\n",
        "    else:\n",
        "      dataX.append(a)\n",
        "#    c = np.concatenate((c,d), axis=None)\n",
        "#    dataX.append(c)\n",
        "    dataY.append(dataset[i + ventana, 1])\n",
        "    dataK.append(d)\n",
        "  \n",
        "  return np.array(dataX), np.array(dataY), np.array(dataK)\n",
        "\n",
        "#retorna el proximo día (desde una fecha) sin considerar fines de semana \n",
        "def nextDay(fecha):\n",
        "  proximo = str((datetime.strptime(fecha,\"%Y-%m-%d\")+timedelta(days=+1)).strftime(\"%Y-%m-%d\"))\n",
        "  dia = datetime.strptime(proximo,\"%Y-%m-%d\").weekday()\n",
        "  if dia == 5:\n",
        "    proximo = str((datetime.strptime(fecha,\"%Y-%m-%d\")+timedelta(days=+3)).strftime(\"%Y-%m-%d\"))\n",
        "  elif dia == 6:\n",
        "    proximo = str((datetime.strptime(fecha,\"%Y-%m-%d\")+timedelta(days=+2)).strftime(\"%Y-%m-%d\"))\n",
        "  else:\n",
        "    proximo = str((datetime.strptime(fecha,\"%Y-%m-%d\")+timedelta(days=+1)).strftime(\"%Y-%m-%d\"))\n",
        "  return proximo\n",
        "\n",
        "def getPolaridad(fecha, dataframe, delta):\n",
        "  proximo = str((datetime.strptime(fecha,\"%Y-%m-%d\")+timedelta(days=+delta)).strftime(\"%Y-%m-%d\"))\n",
        "  df = dataframe\n",
        "  df = df.set_index('Date')\n",
        "  try:\n",
        "    polaridad = df.loc[[proximo], ['label']]\n",
        "  except:\n",
        "    return getPolaridad(fecha, dataframe, delta-1)\n",
        "  return polaridad.iloc[0,0]\n",
        "\n",
        "def setRows(dataframe):\n",
        "  fecha = []\n",
        "  polaridad = []\n",
        "  valor = []\n",
        "  vsemana = []\n",
        "  mensajes = []\n",
        "  for i in range(len(dataframe)):\n",
        "    f = dataframe.iloc[i,0]\n",
        "    p = dataframe.iloc[i,1]\n",
        "    v = dataframe.iloc[i,2]\n",
        "    vs = dataframe.iloc[i,3]\n",
        "    m = dataframe.iloc[i,4]\n",
        "    try:\n",
        "      b = dataframe.iloc[i+1,0]\n",
        "      next = nextDay(f)\n",
        "      if next == b:\n",
        "        fecha.append(f)\n",
        "        polaridad.append(p)\n",
        "        valor.append(v)\n",
        "        vsemana.append(vs)\n",
        "        mensajes.append(m)\n",
        "      else: #este caso se da cuando en el dataset no esta el día; feriado\n",
        "        fecha.append(f)\n",
        "        fecha.append(next)\n",
        "        polaridad.append(p)\n",
        "        valor.append(v)\n",
        "        vsemana.append(vs)\n",
        "        mensajes.append(m)\n",
        "        polaridad.append(getPolaridad(next,dataframe,7))\n",
        "        valor.append(v)\n",
        "        vsemana.append(vs)\n",
        "        mensajes.append(m)\n",
        "    except: #este caso se da cuando en el dataset no está la polaridad de la fecha que se busca, en ese caso, se usa la polaridad anterior\n",
        "      fecha.append(f)\n",
        "      polaridad.append(p)\n",
        "      valor.append(v)\n",
        "      vsemana.append(vs)\n",
        "      mensajes.append(m)\n",
        "    \n",
        "    frame = {'Fecha':fecha, 'Polaridad':polaridad, 'Valor':valor, 'VSemana':vsemana, 'Mensajes':mensajes}\n",
        "    df = pd.DataFrame(frame)\n",
        "    df = df.set_index('Fecha')\n",
        "\n",
        "  return df\n",
        "\n",
        "def getNombreArchivo(accion):\n",
        "  empresa = ['TESLA', 'GOOGLE', 'FACEBOOK', 'APPLE', 'AMAZON', 'NETFLIX']\n",
        "  archivo = ['TSLA_label2.1.csv','GOOGL_label2.1.csv','FB_label2.1.csv','AAPL_label2.1.csv','AMZN_label2.1.csv','NFLX_label2.1.csv']\n",
        "  frame = {'Empresa':empresa, 'Archivo':archivo}\n",
        "  df =pd.DataFrame(frame)\n",
        "  df = df.set_index('Empresa')\n",
        "  archivo = df.loc[[accion],['Archivo']].values[0][0]\n",
        "  return archivo\n",
        "\n",
        "def mean_directional_accuracy(actual: np.ndarray, predicted: np.ndarray):\n",
        "  return np.mean((np.sign(actual[1:] - actual[:-1]) == np.sign(predicted[1:] - predicted[:-1])).astype(int))"
      ],
      "metadata": {
        "id": "ZKSBvkKdKxKN"
      },
      "execution_count": 75,
      "outputs": []
    },
    {
      "cell_type": "markdown",
      "source": [
        "## Preparación del dataset"
      ],
      "metadata": {
        "id": "TbAYUHTmBNCE"
      }
    },
    {
      "cell_type": "code",
      "source": [
        "# fix random seed\n",
        "np.random.seed(7)\n",
        "\n",
        "# carga del dataset\n",
        "drive.mount('/gdrive')\n",
        "%cd '/gdrive/MyDrive/Magister IA/Tesis/Data/'\n",
        "\n",
        "archivo = getNombreArchivo(empresa)\n",
        "df = pd.read_csv(archivo, index_col=False)\n",
        "df.drop(df[df['Date'] < '2018-07-20'].index, inplace=True)\n",
        "df.drop(df[df['Date'] > '2020-06-26'].index, inplace=True)\n",
        "#df = df.drop(['symbol','message','datetime','user','message_id','Time', 'stock_price_1week'], axis='columns')\n",
        "#df = df.drop(['symbol','message','datetime','user','message_id','Time'], axis='columns')\n",
        "df = df.drop(['symbol','datetime','user','message_id','Time'], axis='columns')\n",
        "#df.reset_index(level=0, inplace=True)\n",
        "\n",
        "df=df.groupby(['Date', 'label', 'stock_price', 'stock_price_1week'])['message'].apply(' '.join).reset_index()\n",
        "#df = df.set_index('Date')\n",
        "#feriado = df.loc[['2019-01-01'], ['label', 'message']]\n",
        "#feriado\n",
        "#df\n"
      ],
      "metadata": {
        "colab": {
          "base_uri": "https://localhost:8080/"
        },
        "id": "UBJ3JSwXKmhV",
        "outputId": "d7630a17-c877-44a3-a318-7fefd1c4c861"
      },
      "execution_count": 76,
      "outputs": [
        {
          "output_type": "stream",
          "name": "stdout",
          "text": [
            "Drive already mounted at /gdrive; to attempt to forcibly remount, call drive.mount(\"/gdrive\", force_remount=True).\n",
            "/gdrive/MyDrive/Magister IA/Tesis/Data\n"
          ]
        }
      ]
    },
    {
      "cell_type": "code",
      "source": [
        "#train_data=train_data.groupby(['symbol','Date', 'label', 'stock_price', 'stock_price_1week'])['message'].apply(' '.join).reset_index()\n",
        "\n",
        "\n",
        "#df = df.groupby(by=['Date']).mean()\n",
        "df['label'] = df['label'].map({-1:0, 1:1, 0:0}, na_action=None)\n",
        "#df.reset_index(level=0, inplace=True)\n",
        "\n",
        "\n",
        "# se consideran 5 días por semana, ya que en el data set no están los fines de semana\n",
        "dias = 5\n",
        "#la ventana debería ser igual a días. Sin embargo, hay un dato adicional en el dataset; que es la polaridad. Por eso se agrega 1 al tamaño de la ventana cuando polaridad = True \n",
        "if polaridad:\n",
        "  ventana = dias+1\n",
        "else:\n",
        "  ventana = dias\n",
        "  \n",
        "newDF = setRows(df)\n",
        "newDF.isnull().sum()\n",
        "#feriado = newDF.loc[['2018-12-31','2019-01-01','2019-01-02'], ['Valor', 'Polaridad','VSemana', 'Mensajes']]\n",
        "#feriado\n",
        "#newDF"
      ],
      "metadata": {
        "colab": {
          "base_uri": "https://localhost:8080/"
        },
        "id": "oe_iVEcUh_wq",
        "outputId": "ff47c494-5347-49a7-ba71-2c9aec2e375f"
      },
      "execution_count": 77,
      "outputs": [
        {
          "output_type": "execute_result",
          "data": {
            "text/plain": [
              "Polaridad    0\n",
              "Valor        0\n",
              "VSemana      0\n",
              "Mensajes     0\n",
              "dtype: int64"
            ]
          },
          "metadata": {},
          "execution_count": 77
        }
      ]
    },
    {
      "cell_type": "code",
      "source": [
        "#newDF = newDF.drop(['Mensajes'], axis='columns')\n",
        "#newDF\n"
      ],
      "metadata": {
        "id": "e2d210r0MV8u"
      },
      "execution_count": 78,
      "outputs": []
    },
    {
      "cell_type": "code",
      "source": [
        "dataset = newDF.values\n",
        "dsVLSTM, dsOLSTM, dsMBERT = createDSWindows(dataset, dias)\n",
        "\n",
        "#dsVLSTM\n",
        "#dsOLSTM\n",
        "#dsMBERT"
      ],
      "metadata": {
        "id": "61R8LhLpbnCr"
      },
      "execution_count": 79,
      "outputs": []
    },
    {
      "cell_type": "code",
      "source": [
        "#dsVLSTM"
      ],
      "metadata": {
        "id": "Fojf3u5GfZK5"
      },
      "execution_count": 80,
      "outputs": []
    },
    {
      "cell_type": "code",
      "source": [
        "#dataset = newDF.values\n",
        "#dsVLSTM_M, dsOLSTM = createDSWindows(dataset, dias)\n",
        "\n",
        "# split train y test sets\n",
        "train_size = int(len(dataset) * 0.67)\n",
        "test_size = len(dataset) - train_size\n",
        "trainVLSTM, testVLSTM = dsVLSTM[0:train_size,:], dsVLSTM[train_size:len(dataset),:]\n",
        "trainOLSTM, testOLSTM = dsOLSTM[0:train_size], dsOLSTM[train_size:len(dataset)]\n",
        "trainMBERT, testMBERT = dsMBERT[0:train_size], dsMBERT[train_size:len(dataset)]\n",
        "\n",
        "#trainVLSTM\n",
        "#trainOLSTM\n",
        "#testOLSTM\n",
        "#testMBERT"
      ],
      "metadata": {
        "id": "K6B8lAALrsx9"
      },
      "execution_count": 81,
      "outputs": []
    },
    {
      "cell_type": "code",
      "source": [
        "#dataset = newDF.values\n",
        "#dataset = dataset.astype('float32')\n",
        "\n",
        "\n",
        "# split train y test sets\n",
        "#train_size = int(len(dataset) * 0.67)\n",
        "#test_size = len(dataset) - train_size\n",
        "#train, test = dataset[0:train_size,:], dataset[train_size:len(dataset),:]\n",
        "\n",
        "# reshape para la ventana\n",
        "trainX = trainVLSTM\n",
        "trainY = trainOLSTM\n",
        "testX = testVLSTM\n",
        "testY = testOLSTM\n",
        "\n",
        "# normalización de los sub-datasets\n",
        "scalerTrX = MinMaxScaler(feature_range=(0, 1))\n",
        "scalerTrY = MinMaxScaler(feature_range=(0, 1))\n",
        "scalerTeX = MinMaxScaler(feature_range=(0, 1))\n",
        "scalerTeY = MinMaxScaler(feature_range=(0, 1))\n",
        "\n",
        "trainX = scalerTrX.fit_transform(trainX)\n",
        "testX = scalerTeX.fit_transform(testX)\n",
        "\n",
        "trainY = trainY.reshape(-1,1)\n",
        "testY = testY.reshape(-1,1)\n",
        "\n",
        "trainY = scalerTrY.fit_transform(trainY)\n",
        "testY = scalerTeY.fit_transform(testY)\n",
        "\n",
        "trainY = trainY.flatten('F')\n",
        "testY = testY.flatten('F')\n",
        "\n",
        "# reshape [samples, time steps, features]\n",
        "#trainX = np.reshape(trainX, (trainX.shape[0], trainX.shape[1], 1))\n",
        "#testX = np.reshape(testX, (testX.shape[0], testX.shape[1], 1))\n",
        "trainX = np.reshape(trainX, (trainX.shape[0], 1, trainX.shape[1]))\n",
        "testX = np.reshape(testX, (testX.shape[0], 1, testX.shape[1]))\n",
        "\n",
        "\n",
        "#trainX"
      ],
      "metadata": {
        "id": "n3soLRmP4TjU"
      },
      "execution_count": 82,
      "outputs": []
    },
    {
      "cell_type": "markdown",
      "source": [
        "## Configuración y ejecución de la LSTM"
      ],
      "metadata": {
        "id": "8quknDSEBX7F"
      }
    },
    {
      "cell_type": "code",
      "source": [
        "batch_size = 1\n",
        "model = Sequential()\n",
        "model.add(LSTM(units = 100, return_sequences = True, batch_input_shape=(1,batch_size, ventana)))\n",
        "model.add(Dropout(0.2))\n",
        "model.add(LSTM(units = 100, return_sequences = True))\n",
        "model.add(Dropout(0.2))\n",
        "model.add(LSTM(units = 100, return_sequences = True))\n",
        "model.add(Dropout(0.2))\n",
        "model.add(LSTM(units = 100))\n",
        "model.add(Dropout(0.2))\n",
        "model.add(Dense(units = 1))\n",
        "\n",
        "model.compile(loss='mean_squared_error', optimizer='adam')\n",
        "history = model.fit(trainX, trainY, epochs=epochs, batch_size=batch_size)"
      ],
      "metadata": {
        "id": "N-yoKldz5ppd",
        "colab": {
          "base_uri": "https://localhost:8080/"
        },
        "outputId": "a41b737b-da67-4966-d6f0-03d29aa977a3"
      },
      "execution_count": 83,
      "outputs": [
        {
          "output_type": "stream",
          "name": "stdout",
          "text": [
            "Epoch 1/10\n",
            "338/338 [==============================] - 8s 7ms/step - loss: 0.0283\n",
            "Epoch 2/10\n",
            "338/338 [==============================] - 3s 7ms/step - loss: 0.0121\n",
            "Epoch 3/10\n",
            "338/338 [==============================] - 2s 7ms/step - loss: 0.0073\n",
            "Epoch 4/10\n",
            "338/338 [==============================] - 2s 7ms/step - loss: 0.0069\n",
            "Epoch 5/10\n",
            "338/338 [==============================] - 2s 7ms/step - loss: 0.0058\n",
            "Epoch 6/10\n",
            "338/338 [==============================] - 2s 7ms/step - loss: 0.0063\n",
            "Epoch 7/10\n",
            "338/338 [==============================] - 2s 7ms/step - loss: 0.0061\n",
            "Epoch 8/10\n",
            "338/338 [==============================] - 2s 7ms/step - loss: 0.0052\n",
            "Epoch 9/10\n",
            "338/338 [==============================] - 2s 7ms/step - loss: 0.0043\n",
            "Epoch 10/10\n",
            "338/338 [==============================] - 2s 7ms/step - loss: 0.0054\n"
          ]
        }
      ]
    },
    {
      "cell_type": "markdown",
      "source": [
        "## Resultados"
      ],
      "metadata": {
        "id": "BSEdT_vUCZEL"
      }
    },
    {
      "cell_type": "code",
      "source": [
        "plt.figure(figsize=(10, 5))\n",
        "plt.plot(history.history['loss'], label='Entrenamiento')\n",
        "plt.title('Curva de Pérdida '+empresa)\n",
        "plt.xlabel('épocas')\n",
        "plt.ylabel('loss')\n",
        "plt.legend()\n",
        "plt.show()"
      ],
      "metadata": {
        "id": "dqCTMZlFItEY",
        "colab": {
          "base_uri": "https://localhost:8080/",
          "height": 350
        },
        "outputId": "1afb8130-04d2-4d29-b683-17403dbf03c2"
      },
      "execution_count": 84,
      "outputs": [
        {
          "output_type": "display_data",
          "data": {
            "image/png": "[encoded data removed]",
            "text/plain": [
              "<Figure size 720x360 with 1 Axes>"
            ]
          },
          "metadata": {
            "needs_background": "light"
          }
        }
      ]
    },
    {
      "cell_type": "code",
      "source": [
        "# predicciones\n",
        "trainPredict = model.predict(trainX, batch_size=batch_size)\n",
        "model.reset_states()\n",
        "testPredict = model.predict(testX, batch_size=batch_size)\n",
        "\n",
        "# se invierten las predicciones\n",
        "trainPredict = scalerTrY.inverse_transform(trainPredict)\n",
        "trainYY = scalerTrY.inverse_transform([trainY])\n",
        "testPredict = scalerTeY.inverse_transform(testPredict)\n",
        "testYY = scalerTeY.inverse_transform([testY])\n",
        "\n",
        "\n",
        "# mean absolute error\n",
        "maeTr = mean_absolute_error(trainYY[0], trainPredict[:,0])\n",
        "print('Train MAE score: %.2f' % maeTr)\n",
        "maeTe = mean_absolute_error(testYY[0], testPredict[:,0])\n",
        "print('Test MAE score: %.2f' % maeTe)\n",
        "\n",
        "# mean squared error\n",
        "mseTr = mean_squared_error(trainYY[0], trainPredict[:,0])\n",
        "print('\\nTrain MSE score: %.2f' % mseTr)\n",
        "mseTe = mean_squared_error(testYY[0], testPredict[:,0])\n",
        "print('Test MSE score: %.2f' % mseTe)\n",
        "\n",
        "# root mean squared error\n",
        "trainScore = math.sqrt(mean_squared_error(trainYY[0], trainPredict[:,0]))\n",
        "print('\\nTrain RMSE score: %.2f' % (trainScore))\n",
        "testScore = math.sqrt(mean_squared_error(testYY[0], testPredict[:,0]))\n",
        "print('Test RMSE score: %.2f' % (testScore))\n",
        "\n",
        "# mean directional accuracy\n",
        "mda = mean_directional_accuracy(testYY[0], testPredict)\n",
        "print('\\nTest MDA score:', \"{:.0%}\".format(mda))"
      ],
      "metadata": {
        "id": "46kLP9nlwAp0",
        "colab": {
          "base_uri": "https://localhost:8080/"
        },
        "outputId": "bfb79b45-b7e7-4f3a-ab1c-b8c36caf34e3"
      },
      "execution_count": 94,
      "outputs": [
        {
          "output_type": "stream",
          "name": "stdout",
          "text": [
            "(161, 1)\n",
            "Train MAE score: 1.81\n",
            "Test MAE score: 7.09\n",
            "\n",
            "Train MSE score: 6.17\n",
            "Test MSE score: 94.07\n",
            "\n",
            "Train RMSE score: 2.48\n",
            "Test RMSE score: 9.70\n",
            "\n",
            "Test MDA score: 47%\n"
          ]
        }
      ]
    },
    {
      "cell_type": "code",
      "source": [
        "#dsVLSTM"
      ],
      "metadata": {
        "id": "rSWmR7_FjmS6"
      },
      "execution_count": 88,
      "outputs": []
    },
    {
      "cell_type": "code",
      "source": [
        "col = [fila[1] for fila in dataset]\n",
        "ds = np.array(col)\n",
        "ds = ds.reshape(-1,1)\n",
        "\n",
        "trainPredictPlot = np.empty_like(ds)\n",
        "trainPredictPlot[:, :] = np.nan\n",
        "trainPredictPlot[dias:len(trainPredict)+dias, :] = trainPredict\n",
        "\n",
        "testPredictPlot = np.empty_like(ds)\n",
        "testPredictPlot[:, :] = np.nan\n",
        "testPredictPlot[len(trainPredict)+(dias):len(ds)-1, :] = testPredict\n",
        "\n",
        "# plot de los datos de entrada y las predicciones\n",
        "plt.figure(figsize=(15, 5))\n",
        "plt.plot(ds, label='Real')\n",
        "plt.title('Curva de entrenamiento y test '+empresa)\n",
        "plt.plot(trainPredictPlot, label=\"Entrenamiento\")\n",
        "plt.plot(testPredictPlot, label=\"Test\")\n",
        "plt.axvline(x=trainPredict.shape[0], c='r', linestyle='--')\n",
        "plt.xlabel('tiempo [días]')\n",
        "plt.ylabel('valor de la acción [US$]')\n",
        "plt.legend()\n",
        "plt.show()\n"
      ],
      "metadata": {
        "colab": {
          "base_uri": "https://localhost:8080/",
          "height": 350
        },
        "id": "qL1BoxcYqIXv",
        "outputId": "4f2acb45-4bcd-4576-d168-8b3ca019933a"
      },
      "execution_count": 98,
      "outputs": [
        {
          "output_type": "display_data",
          "data": {
            "image/png": "[encoded data removed]",
            "text/plain": [
              "<Figure size 1080x360 with 1 Axes>"
            ]
          },
          "metadata": {
            "needs_background": "light"
          }
        }
      ]
    }
  ]
}