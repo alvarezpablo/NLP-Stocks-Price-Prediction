{
  "nbformat": 4,
  "nbformat_minor": 0,
  "metadata": {
    "colab": {
      "name": "Tesis-LSTM_FinAlbert-1Week-CNN.ipynb",
      "provenance": [],
      "include_colab_link": true
    },
    "kernelspec": {
      "name": "python3",
      "display_name": "Python 3"
    },
    "language_info": {
      "name": "python"
    }
  },
  "cells": [
    {
      "cell_type": "markdown",
      "metadata": {
        "id": "view-in-github",
        "colab_type": "text"
      },
      "source": [
        "<a href=\"https://colab.research.google.com/github/alvarezpablo/NLP-Stocks-Price-Prediction/blob/main/Tesis_LSTM_FinAlbert_1Week_CNN.ipynb\" target=\"_parent\"><img src=\"https://colab.research.google.com/assets/colab-badge.svg\" alt=\"Open In Colab\"/></a>"
      ]
    },
    {
      "cell_type": "code",
      "execution_count": 1,
      "metadata": {
        "id": "YNUWmp-Z3VnV"
      },
      "outputs": [],
      "source": [
        "import numpy as np\n",
        "import matplotlib.pyplot as plt\n",
        "import pandas as pd\n",
        "import math\n",
        "from keras.models import Sequential, Input, Model\n",
        "from keras.layers import Dense\n",
        "from keras.layers import LSTM\n",
        "from keras.layers import Dropout\n",
        "from sklearn.preprocessing import MinMaxScaler\n",
        "from sklearn.metrics import mean_squared_error\n",
        "from sklearn.metrics import mean_absolute_error\n",
        "from datetime import datetime\n",
        "from datetime import timedelta\n",
        "from google.colab import drive"
      ]
    },
    {
      "cell_type": "markdown",
      "source": [
        "## Configuración para la ejecución"
      ],
      "metadata": {
        "id": "5lXOBb02Btcn"
      }
    },
    {
      "cell_type": "code",
      "source": [
        "#empresa = 'NETFLIX'\n",
        "#empresa = 'AMAZON'\n",
        "#empresa = 'APPLE'\n",
        "#empresa = 'GOOGLE'\n",
        "#empresa = 'ACME'\n",
        "\n",
        "empresa = 'TESLA'\n",
        "#empresa = 'FACEBOOK'\n",
        "epochs = 50"
      ],
      "metadata": {
        "id": "kL7ZtmCgByvF"
      },
      "execution_count": 2,
      "outputs": []
    },
    {
      "cell_type": "markdown",
      "source": [
        "## Rutinas"
      ],
      "metadata": {
        "id": "8URhp_cPCAPu"
      }
    },
    {
      "cell_type": "code",
      "source": [
        "# convierte los datos de entrada en una matriz con la ventana de tiempo\n",
        "def createDSWindows(dataset, ventana):\n",
        "  dataX, dataY, dataK, a = [], [], [], []\n",
        "  for i in range(len(dataset)-ventana-1):\n",
        "    a = dataset[i:(i+ventana), 1]\n",
        "    b = dataset[i, 0]\n",
        "    d = dataset[i,3]\n",
        "    c = np.concatenate((b,a), axis=None)\n",
        "#    c = np.concatenate((c,d), axis=None)\n",
        "    dataX.append(c)\n",
        "    dataY.append(dataset[i + ventana, 1])\n",
        "    dataK.append(d)\n",
        "  \n",
        "  return np.array(dataX), np.array(dataY), np.array(dataK)\n",
        "\n",
        "#retorna el proximo día (desde una fecha) sin considerar fines de semana \n",
        "def nextDay(fecha):\n",
        "  proximo = str((datetime.strptime(fecha,\"%Y-%m-%d\")+timedelta(days=+1)).strftime(\"%Y-%m-%d\"))\n",
        "  dia = datetime.strptime(proximo,\"%Y-%m-%d\").weekday()\n",
        "  if dia == 5:\n",
        "    proximo = str((datetime.strptime(fecha,\"%Y-%m-%d\")+timedelta(days=+3)).strftime(\"%Y-%m-%d\"))\n",
        "  elif dia == 6:\n",
        "    proximo = str((datetime.strptime(fecha,\"%Y-%m-%d\")+timedelta(days=+2)).strftime(\"%Y-%m-%d\"))\n",
        "  else:\n",
        "    proximo = str((datetime.strptime(fecha,\"%Y-%m-%d\")+timedelta(days=+1)).strftime(\"%Y-%m-%d\"))\n",
        "  return proximo\n",
        "\n",
        "def getPolaridad(fecha, dataframe, delta):\n",
        "  proximo = str((datetime.strptime(fecha,\"%Y-%m-%d\")+timedelta(days=+delta)).strftime(\"%Y-%m-%d\"))\n",
        "  df = dataframe\n",
        "  df = df.set_index('Date')\n",
        "  try:\n",
        "    polaridad = df.loc[[proximo], ['label']]\n",
        "  except:\n",
        "    return getPolaridad(fecha, dataframe, delta-1)\n",
        "  return polaridad.iloc[0,0]\n",
        "\n",
        "def setRows(dataframe):\n",
        "  fecha = []\n",
        "  polaridad = []\n",
        "  valor = []\n",
        "  vsemana = []\n",
        "  mensajes = []\n",
        "  for i in range(len(dataframe)):\n",
        "    f = dataframe.iloc[i,0]\n",
        "    p = dataframe.iloc[i,1]\n",
        "    v = dataframe.iloc[i,2]\n",
        "    vs = dataframe.iloc[i,3]\n",
        "    m = dataframe.iloc[i,4]\n",
        "    try:\n",
        "      b = dataframe.iloc[i+1,0]\n",
        "      next = nextDay(f)\n",
        "      if next == b:\n",
        "        fecha.append(f)\n",
        "        polaridad.append(p)\n",
        "        valor.append(v)\n",
        "        vsemana.append(vs)\n",
        "        mensajes.append(m)\n",
        "      else: #este caso se da cuando en el dataset no esta el día; feriado\n",
        "        fecha.append(f)\n",
        "        fecha.append(next)\n",
        "        polaridad.append(p)\n",
        "        valor.append(v)\n",
        "        vsemana.append(vs)\n",
        "        mensajes.append(m)\n",
        "        polaridad.append(getPolaridad(next,dataframe,7))\n",
        "        valor.append(v)\n",
        "        vsemana.append(vs)\n",
        "        mensajes.append(m)\n",
        "    except: #este caso se da cuando en el dataset no está la polaridad de la fecha que se busca, en ese caso, se usa la polaridad anterior\n",
        "      fecha.append(f)\n",
        "      polaridad.append(p)\n",
        "      valor.append(v)\n",
        "      vsemana.append(vs)\n",
        "      mensajes.append(m)\n",
        "    \n",
        "    frame = {'Fecha':fecha, 'Polaridad':polaridad, 'Valor':valor, 'VSemana':vsemana, 'Mensajes':mensajes}\n",
        "    df = pd.DataFrame(frame)\n",
        "    df = df.set_index('Fecha')\n",
        "\n",
        "  return df\n",
        "\n",
        "def getNombreArchivo(accion):\n",
        "  empresa = ['TESLA', 'GOOGLE', 'FACEBOOK', 'APPLE', 'AMAZON', 'NETFLIX']\n",
        "  archivo = ['TSLA_label2.1.csv','GOOGL_label2.1.csv','FB_label2.1.csv','AAPL_label2.1.csv','AMZN_label2.1.csv','NFLX_label2.1.csv']\n",
        "  frame = {'Empresa':empresa, 'Archivo':archivo}\n",
        "  df =pd.DataFrame(frame)\n",
        "  df = df.set_index('Empresa')\n",
        "  archivo = df.loc[[accion],['Archivo']].values[0][0]\n",
        "  return archivo\n",
        "\n",
        "def mean_directional_accuracy(actual: np.ndarray, predicted: np.ndarray):\n",
        "  return np.mean((np.sign(actual[1:] - actual[:-1]) == np.sign(predicted[1:] - predicted[:-1])).astype(int))"
      ],
      "metadata": {
        "id": "ZKSBvkKdKxKN"
      },
      "execution_count": 3,
      "outputs": []
    },
    {
      "cell_type": "markdown",
      "source": [
        "## Preparación del dataset"
      ],
      "metadata": {
        "id": "TbAYUHTmBNCE"
      }
    },
    {
      "cell_type": "code",
      "source": [
        "# fix random seed\n",
        "np.random.seed(7)\n",
        "\n",
        "# carga del dataset\n",
        "drive.mount('/content/drive')\n",
        "%cd '/content/drive/MyDrive/MIA/Tesis/Data/'\n",
        "\n",
        "archivo = getNombreArchivo(empresa)\n",
        "df = pd.read_csv(archivo, index_col=False)\n",
        "df.drop(df[df['Date'] < '2018-07-20'].index, inplace=True)\n",
        "df.drop(df[df['Date'] > '2020-06-26'].index, inplace=True)\n",
        "#df = df.drop(['symbol','message','datetime','user','message_id','Time', 'stock_price_1week'], axis='columns')\n",
        "#df = df.drop(['symbol','message','datetime','user','message_id','Time'], axis='columns')\n",
        "df = df.drop(['symbol','datetime','user','message_id','Time'], axis='columns')\n",
        "#df.reset_index(level=0, inplace=True)\n",
        "\n",
        "df=df.groupby(['Date', 'label', 'stock_price', 'stock_price_1week'])['message'].apply(' '.join).reset_index()\n",
        "#df = df.set_index('Date')\n",
        "#feriado = df.loc[['2019-01-01'], ['label', 'message']]\n",
        "#feriado\n",
        "#df\n"
      ],
      "metadata": {
        "colab": {
          "base_uri": "https://localhost:8080/"
        },
        "id": "UBJ3JSwXKmhV",
        "outputId": "9d1a476b-b712-445a-d05d-b9fae4e55fea"
      },
      "execution_count": 4,
      "outputs": [
        {
          "output_type": "stream",
          "name": "stdout",
          "text": [
            "Drive already mounted at /content/drive; to attempt to forcibly remount, call drive.mount(\"/content/drive\", force_remount=True).\n",
            "/content/drive/MyDrive/MIA/Tesis/Data\n"
          ]
        }
      ]
    },
    {
      "cell_type": "code",
      "source": [
        "#train_data=train_data.groupby(['symbol','Date', 'label', 'stock_price', 'stock_price_1week'])['message'].apply(' '.join).reset_index()\n",
        "\n",
        "\n",
        "#df = df.groupby(by=['Date']).mean()\n",
        "df['label'] = df['label'].map({-1:0, 1:1, 0:0}, na_action=None)\n",
        "#df.reset_index(level=0, inplace=True)\n",
        "\n",
        "\n",
        "# se consideran 5 días por semana, ya que en el data set no están los fines de semana\n",
        "dias = 5\n",
        "#la ventana debería ser igual a días. Sin embargo, hay un dato adicional en el dataset; que es la polaridad. Por eso se agrega 1 al tamaño de la ventana \n",
        "ventana = dias+1\n",
        "\n",
        "newDF = setRows(df)\n",
        "newDF.isnull().sum()\n",
        "#feriado = newDF.loc[['2018-12-31','2019-01-01','2019-01-02'], ['Valor', 'Polaridad','VSemana', 'Mensajes']]\n",
        "#feriado\n",
        "#newDF"
      ],
      "metadata": {
        "colab": {
          "base_uri": "https://localhost:8080/"
        },
        "id": "oe_iVEcUh_wq",
        "outputId": "d502395a-f26b-4595-8374-05dad044e7bf"
      },
      "execution_count": 5,
      "outputs": [
        {
          "output_type": "execute_result",
          "data": {
            "text/plain": [
              "Polaridad    0\n",
              "Valor        0\n",
              "VSemana      0\n",
              "Mensajes     0\n",
              "dtype: int64"
            ]
          },
          "metadata": {},
          "execution_count": 5
        }
      ]
    },
    {
      "cell_type": "code",
      "source": [
        "#newDF = newDF.drop(['Mensajes'], axis='columns')\n",
        "#newDF\n"
      ],
      "metadata": {
        "id": "e2d210r0MV8u"
      },
      "execution_count": 6,
      "outputs": []
    },
    {
      "cell_type": "code",
      "source": [
        "dataset = newDF.values\n",
        "dsVLSTM, dsOLSTM, dsMBERT = createDSWindows(dataset, dias)\n",
        "\n",
        "#dsVLSTM\n",
        "#dsOLSTM\n",
        "#dsMBERT"
      ],
      "metadata": {
        "id": "61R8LhLpbnCr"
      },
      "execution_count": 7,
      "outputs": []
    },
    {
      "cell_type": "code",
      "source": [
        "#dsVLSTM"
      ],
      "metadata": {
        "id": "Fojf3u5GfZK5"
      },
      "execution_count": 8,
      "outputs": []
    },
    {
      "cell_type": "code",
      "source": [
        "#dataset = newDF.values\n",
        "#dsVLSTM_M, dsOLSTM = createDSWindows(dataset, dias)\n",
        "\n",
        "# split train y test sets\n",
        "train_size = int(len(dataset) * 0.67)\n",
        "test_size = len(dataset) - train_size\n",
        "trainVLSTM, testVLSTM = dsVLSTM[0:train_size,:], dsVLSTM[train_size:len(dataset),:]\n",
        "trainOLSTM, testOLSTM = dsOLSTM[0:train_size], dsOLSTM[train_size:len(dataset)]\n",
        "trainMBERT, testMBERT = dsMBERT[0:train_size], dsMBERT[train_size:len(dataset)]\n",
        "\n",
        "#trainVLSTM\n",
        "#trainOLSTM\n",
        "#testOLSTM\n",
        "#testMBERT"
      ],
      "metadata": {
        "id": "K6B8lAALrsx9"
      },
      "execution_count": 9,
      "outputs": []
    },
    {
      "cell_type": "code",
      "source": [
        "#dataset = newDF.values\n",
        "#dataset = dataset.astype('float32')\n",
        "\n",
        "\n",
        "# split train y test sets\n",
        "#train_size = int(len(dataset) * 0.67)\n",
        "#test_size = len(dataset) - train_size\n",
        "#train, test = dataset[0:train_size,:], dataset[train_size:len(dataset),:]\n",
        "\n",
        "# reshape para la ventana\n",
        "trainX = trainVLSTM\n",
        "trainY = trainOLSTM\n",
        "testX = testVLSTM\n",
        "testY = testOLSTM\n",
        "\n",
        "# normalización de los sub-datasets\n",
        "scalerTrX = MinMaxScaler(feature_range=(0, 1))\n",
        "scalerTrY = MinMaxScaler(feature_range=(0, 1))\n",
        "scalerTeX = MinMaxScaler(feature_range=(0, 1))\n",
        "scalerTeY = MinMaxScaler(feature_range=(0, 1))\n",
        "\n",
        "trainX = scalerTrX.fit_transform(trainX)\n",
        "testX = scalerTeX.fit_transform(testX)\n",
        "\n",
        "trainY = trainY.reshape(-1,1)\n",
        "testY = testY.reshape(-1,1)\n",
        "\n",
        "trainY = scalerTrY.fit_transform(trainY)\n",
        "testY = scalerTeY.fit_transform(testY)\n",
        "\n",
        "trainY = trainY.flatten('F')\n",
        "testY = testY.flatten('F')\n",
        "\n",
        "# reshape [samples, time steps, features]\n",
        "trainX = np.reshape(trainX, (trainX.shape[0],  1, trainX.shape[1]))\n",
        "testX = np.reshape(testX, (testX.shape[0], 1, testX.shape[1]))\n",
        "\n",
        "#trainX"
      ],
      "metadata": {
        "id": "n3soLRmP4TjU"
      },
      "execution_count": 10,
      "outputs": []
    },
    {
      "cell_type": "code",
      "source": [
        "testX.shape"
      ],
      "metadata": {
        "id": "NFXIOJUUUf69",
        "outputId": "90042ddc-3094-4b98-d75b-da503b27109b",
        "colab": {
          "base_uri": "https://localhost:8080/"
        }
      },
      "execution_count": 11,
      "outputs": [
        {
          "output_type": "execute_result",
          "data": {
            "text/plain": [
              "(161, 1, 6)"
            ]
          },
          "metadata": {},
          "execution_count": 11
        }
      ]
    },
    {
      "cell_type": "markdown",
      "source": [
        "## Configuración y ejecución de la LSTM"
      ],
      "metadata": {
        "id": "8quknDSEBX7F"
      }
    },
    {
      "cell_type": "code",
      "source": [
        "def set_lstm(batch_size, ventana):\n",
        "\n",
        "  inputA = Input(shape=(batch_size, ventana))\n",
        "\n",
        "  m = Sequential()\n",
        "\n",
        "  m = LSTM(units = 100, return_sequences = True, batch_input_shape=(1, batch_size, ventana)) (inputA)\n",
        "  m = Dropout(0.2) (m)\n",
        "  m = LSTM(units = 100, return_sequences = True)(m)\n",
        "  m = Dropout(0.2) (m)\n",
        "  m = LSTM(units = 100, return_sequences = True)(m)\n",
        "  m = Dropout(0.2) (m)\n",
        "  m = LSTM(units = 100, return_sequences = True)(m)\n",
        "  m = Dropout(0.2) (m)\n",
        "  m = Dense(units = 1) (m)\n",
        "\n",
        "  model = Model(inputs=[inputA], outputs=[m])\n",
        "  return (model)"
      ],
      "metadata": {
        "id": "6X-2mZ9pqfn3"
      },
      "execution_count": 12,
      "outputs": []
    },
    {
      "cell_type": "code",
      "source": [
        "model.summary()"
      ],
      "metadata": {
        "id": "lwt_8y-rZ9tn",
        "outputId": "80534832-9e57-444b-8a64-596cf7a3c6bd",
        "colab": {
          "base_uri": "https://localhost:8080/"
        }
      },
      "execution_count": 27,
      "outputs": [
        {
          "output_type": "stream",
          "name": "stdout",
          "text": [
            "Model: \"model\"\n",
            "_________________________________________________________________\n",
            " Layer (type)                Output Shape              Param #   \n",
            "=================================================================\n",
            " input_1 (InputLayer)        [(None, 1, 6)]            0         \n",
            "                                                                 \n",
            " lstm (LSTM)                 (None, 1, 100)            42800     \n",
            "                                                                 \n",
            " dropout (Dropout)           (None, 1, 100)            0         \n",
            "                                                                 \n",
            " lstm_1 (LSTM)               (None, 1, 100)            80400     \n",
            "                                                                 \n",
            " dropout_1 (Dropout)         (None, 1, 100)            0         \n",
            "                                                                 \n",
            " lstm_2 (LSTM)               (None, 1, 100)            80400     \n",
            "                                                                 \n",
            " dropout_2 (Dropout)         (None, 1, 100)            0         \n",
            "                                                                 \n",
            " lstm_3 (LSTM)               (None, 1, 100)            80400     \n",
            "                                                                 \n",
            " dropout_3 (Dropout)         (None, 1, 100)            0         \n",
            "                                                                 \n",
            " dense (Dense)               (None, 1, 1)              101       \n",
            "                                                                 \n",
            "=================================================================\n",
            "Total params: 284,101\n",
            "Trainable params: 284,101\n",
            "Non-trainable params: 0\n",
            "_________________________________________________________________\n"
          ]
        }
      ]
    },
    {
      "cell_type": "code",
      "source": [
        "batch_size = 1\n",
        "\n",
        "model = set_lstm(batch_size, ventana)\n",
        "#model = Sequential()\n",
        "#model.add(LSTM(units = 100, return_sequences = True, batch_input_shape=(batch_size, ventana, 1)))\n",
        "#model.add(Dropout(0.2))\n",
        "#model.add(LSTM(units = 100, return_sequences = True))\n",
        "#model.add(Dropout(0.2))\n",
        "#model.add(LSTM(units = 100, return_sequences = True))\n",
        "#model.add(Dropout(0.2))\n",
        "#model.add(LSTM(units = 100))\n",
        "#model.add(Dropout(0.2))\n",
        "#model.add(Dense(units = 1))\n",
        "\n",
        "model.compile(loss='mean_squared_error', optimizer='adam')\n",
        "history = model.fit(trainX, trainY, epochs=epochs, batch_size=batch_size)"
      ],
      "metadata": {
        "id": "N-yoKldz5ppd",
        "colab": {
          "base_uri": "https://localhost:8080/"
        },
        "outputId": "a3040c9f-e7b2-462b-97ba-503e6c557fcd"
      },
      "execution_count": 14,
      "outputs": [
        {
          "output_type": "stream",
          "name": "stdout",
          "text": [
            "Epoch 1/50\n",
            "338/338 [==============================] - 8s 6ms/step - loss: 0.0351\n",
            "Epoch 2/50\n",
            "338/338 [==============================] - 2s 6ms/step - loss: 0.0102\n",
            "Epoch 3/50\n",
            "338/338 [==============================] - 2s 6ms/step - loss: 0.0080\n",
            "Epoch 4/50\n",
            "338/338 [==============================] - 2s 7ms/step - loss: 0.0075\n",
            "Epoch 5/50\n",
            "338/338 [==============================] - 2s 7ms/step - loss: 0.0054\n",
            "Epoch 6/50\n",
            "338/338 [==============================] - 2s 6ms/step - loss: 0.0070\n",
            "Epoch 7/50\n",
            "338/338 [==============================] - 2s 6ms/step - loss: 0.0057\n",
            "Epoch 8/50\n",
            "338/338 [==============================] - 2s 6ms/step - loss: 0.0050\n",
            "Epoch 9/50\n",
            "338/338 [==============================] - 2s 6ms/step - loss: 0.0050\n",
            "Epoch 10/50\n",
            "338/338 [==============================] - 2s 6ms/step - loss: 0.0050\n",
            "Epoch 11/50\n",
            "338/338 [==============================] - 2s 6ms/step - loss: 0.0050\n",
            "Epoch 12/50\n",
            "338/338 [==============================] - 2s 6ms/step - loss: 0.0046\n",
            "Epoch 13/50\n",
            "338/338 [==============================] - 2s 6ms/step - loss: 0.0043\n",
            "Epoch 14/50\n",
            "338/338 [==============================] - 2s 6ms/step - loss: 0.0049\n",
            "Epoch 15/50\n",
            "338/338 [==============================] - 2s 6ms/step - loss: 0.0042\n",
            "Epoch 16/50\n",
            "338/338 [==============================] - 2s 6ms/step - loss: 0.0042\n",
            "Epoch 17/50\n",
            "338/338 [==============================] - 2s 6ms/step - loss: 0.0043\n",
            "Epoch 18/50\n",
            "338/338 [==============================] - 2s 7ms/step - loss: 0.0045\n",
            "Epoch 19/50\n",
            "338/338 [==============================] - 2s 6ms/step - loss: 0.0041\n",
            "Epoch 20/50\n",
            "338/338 [==============================] - 2s 6ms/step - loss: 0.0045\n",
            "Epoch 21/50\n",
            "338/338 [==============================] - 2s 6ms/step - loss: 0.0044\n",
            "Epoch 22/50\n",
            "338/338 [==============================] - 2s 6ms/step - loss: 0.0045\n",
            "Epoch 23/50\n",
            "338/338 [==============================] - 2s 6ms/step - loss: 0.0048\n",
            "Epoch 24/50\n",
            "338/338 [==============================] - 2s 6ms/step - loss: 0.0044\n",
            "Epoch 25/50\n",
            "338/338 [==============================] - 2s 6ms/step - loss: 0.0043\n",
            "Epoch 26/50\n",
            "338/338 [==============================] - 2s 6ms/step - loss: 0.0043\n",
            "Epoch 27/50\n",
            "338/338 [==============================] - 2s 6ms/step - loss: 0.0042\n",
            "Epoch 28/50\n",
            "338/338 [==============================] - 2s 6ms/step - loss: 0.0036\n",
            "Epoch 29/50\n",
            "338/338 [==============================] - 2s 6ms/step - loss: 0.0038\n",
            "Epoch 30/50\n",
            "338/338 [==============================] - 2s 6ms/step - loss: 0.0040\n",
            "Epoch 31/50\n",
            "338/338 [==============================] - 2s 6ms/step - loss: 0.0038\n",
            "Epoch 32/50\n",
            "338/338 [==============================] - 2s 6ms/step - loss: 0.0038\n",
            "Epoch 33/50\n",
            "338/338 [==============================] - 2s 6ms/step - loss: 0.0035\n",
            "Epoch 34/50\n",
            "338/338 [==============================] - 2s 6ms/step - loss: 0.0048\n",
            "Epoch 35/50\n",
            "338/338 [==============================] - 2s 6ms/step - loss: 0.0042\n",
            "Epoch 36/50\n",
            "338/338 [==============================] - 2s 6ms/step - loss: 0.0039\n",
            "Epoch 37/50\n",
            "338/338 [==============================] - 2s 6ms/step - loss: 0.0047\n",
            "Epoch 38/50\n",
            "338/338 [==============================] - 2s 6ms/step - loss: 0.0042\n",
            "Epoch 39/50\n",
            "338/338 [==============================] - 2s 6ms/step - loss: 0.0045\n",
            "Epoch 40/50\n",
            "338/338 [==============================] - 2s 7ms/step - loss: 0.0036\n",
            "Epoch 41/50\n",
            "338/338 [==============================] - 2s 7ms/step - loss: 0.0039\n",
            "Epoch 42/50\n",
            "338/338 [==============================] - 2s 6ms/step - loss: 0.0039\n",
            "Epoch 43/50\n",
            "338/338 [==============================] - 2s 6ms/step - loss: 0.0038\n",
            "Epoch 44/50\n",
            "338/338 [==============================] - 2s 6ms/step - loss: 0.0038\n",
            "Epoch 45/50\n",
            "338/338 [==============================] - 2s 7ms/step - loss: 0.0036\n",
            "Epoch 46/50\n",
            "338/338 [==============================] - 2s 6ms/step - loss: 0.0041\n",
            "Epoch 47/50\n",
            "338/338 [==============================] - 2s 6ms/step - loss: 0.0043\n",
            "Epoch 48/50\n",
            "338/338 [==============================] - 2s 6ms/step - loss: 0.0039\n",
            "Epoch 49/50\n",
            "338/338 [==============================] - 2s 6ms/step - loss: 0.0033\n",
            "Epoch 50/50\n",
            "338/338 [==============================] - 2s 6ms/step - loss: 0.0038\n"
          ]
        }
      ]
    },
    {
      "cell_type": "markdown",
      "source": [
        "## Resultados"
      ],
      "metadata": {
        "id": "BSEdT_vUCZEL"
      }
    },
    {
      "cell_type": "code",
      "source": [
        "plt.figure(figsize=(10, 5))\n",
        "plt.plot(history.history['loss'], label='Entrenamiento')\n",
        "plt.title('Curva de Pérdida '+empresa)\n",
        "plt.xlabel('épocas')\n",
        "plt.ylabel('loss')\n",
        "plt.legend()\n",
        "plt.show()"
      ],
      "metadata": {
        "id": "dqCTMZlFItEY",
        "colab": {
          "base_uri": "https://localhost:8080/",
          "height": 350
        },
        "outputId": "175775c4-4f53-4175-98cb-f0bc65e4dc27"
      },
      "execution_count": 15,
      "outputs": [
        {
          "output_type": "display_data",
          "data": {
            "image/png": "[encoded data removed]",
            "text/plain": [
              "<Figure size 720x360 with 1 Axes>"
            ]
          },
          "metadata": {
            "needs_background": "light"
          }
        }
      ]
    },
    {
      "cell_type": "code",
      "source": [
        "#trainPredict = trainPredict.flatten('F')"
      ],
      "metadata": {
        "id": "lq2ILtUphK4p"
      },
      "execution_count": 19,
      "outputs": []
    },
    {
      "cell_type": "code",
      "source": [
        "#trainPredict"
      ],
      "metadata": {
        "id": "M781SeMghc-8",
        "outputId": "b83e3628-2cd3-4002-d8df-d29ac03f9f03",
        "colab": {
          "base_uri": "https://localhost:8080/"
        }
      },
      "execution_count": 20,
      "outputs": [
        {
          "output_type": "execute_result",
          "data": {
            "text/plain": [
              "array([0.62393385, 0.587378  , 0.5568684 , 0.5877563 , 0.66856307,\n",
              "       0.80035836, 0.8071637 , 0.8052869 , 0.859947  , 0.8651492 ,\n",
              "       0.84851223, 0.8447686 , 0.8091756 , 0.79025006, 0.759441  ,\n",
              "       0.7496162 , 0.6691567 , 0.66193414, 0.68843067, 0.6910321 ,\n",
              "       0.74162257, 0.7497834 , 0.686648  , 0.6553613 , 0.63026357,\n",
              "       0.6224987 , 0.61608887, 0.6061388 , 0.55995977, 0.52829266,\n",
              "       0.52252173, 0.5238488 , 0.51731104, 0.5588564 , 0.6021296 ,\n",
              "       0.58408815, 0.628061  , 0.6230905 , 0.59982705, 0.6438235 ,\n",
              "       0.6496049 , 0.65520906, 0.6483158 , 0.6652672 , 0.6931105 ,\n",
              "       0.6155826 , 0.5446457 , 0.61439383, 0.5969861 , 0.5818046 ,\n",
              "       0.49800935, 0.47238111, 0.41934523, 0.4430511 , 0.4107016 ,\n",
              "       0.37512496, 0.4355287 , 0.45267376, 0.5111908 , 0.49556547,\n",
              "       0.41758358, 0.45906457, 0.476896  , 0.59240836, 0.5776845 ,\n",
              "       0.6737    , 0.7326522 , 0.77634233, 0.76296794, 0.79438764,\n",
              "       0.8171731 , 0.82559025, 0.8154116 , 0.81662387, 0.8309666 ,\n",
              "       0.83843553, 0.7803146 , 0.7350695 , 0.7519778 , 0.76473975,\n",
              "       0.8275381 , 0.8374246 , 0.84036297, 0.7764762 , 0.8159095 ,\n",
              "       0.75542164, 0.72313344, 0.76561993, 0.82085097, 0.8238554 ,\n",
              "       0.8119573 , 0.83571416, 0.8477806 , 0.85162246, 0.85141414,\n",
              "       0.8571497 , 0.8539639 , 0.8610839 , 0.82207286, 0.86419076,\n",
              "       0.8703139 , 0.8254831 , 0.79465187, 0.78828084, 0.7579961 ,\n",
              "       0.70405114, 0.6961869 , 0.69645506, 0.6059911 , 0.6779829 ,\n",
              "       0.7369658 , 0.7717385 , 0.77091455, 0.7226443 , 0.6506773 ,\n",
              "       0.62863815, 0.7423198 , 0.7904824 , 0.7877401 , 0.79185915,\n",
              "       0.81381774, 0.7668189 , 0.828408  , 0.8246928 , 0.8291601 ,\n",
              "       0.7741275 , 0.65811473, 0.64279413, 0.6252576 , 0.59158576,\n",
              "       0.56073666, 0.6490408 , 0.57426745, 0.6418607 , 0.6830336 ,\n",
              "       0.68641317, 0.70415455, 0.70807195, 0.74248874, 0.6575718 ,\n",
              "       0.6329489 , 0.6243513 , 0.62873244, 0.6432816 , 0.62627906,\n",
              "       0.6857374 , 0.62193394, 0.62725586, 0.61827064, 0.60431826,\n",
              "       0.5709064 , 0.5777189 , 0.587157  , 0.65670455, 0.70254254,\n",
              "       0.6508499 , 0.5812998 , 0.5441421 , 0.5237672 , 0.5220363 ,\n",
              "       0.49747515, 0.5800437 , 0.59895563, 0.57590944, 0.5952368 ,\n",
              "       0.5360679 , 0.4966346 , 0.46659872, 0.4609543 , 0.47854128,\n",
              "       0.46666667, 0.43130344, 0.4141363 , 0.44060364, 0.52693146,\n",
              "       0.535616  , 0.53955126, 0.5829203 , 0.58194935, 0.5367528 ,\n",
              "       0.4616738 , 0.48763174, 0.4763825 , 0.478467  , 0.46703506,\n",
              "       0.4501691 , 0.44687998, 0.43821555, 0.4630942 , 0.5116681 ,\n",
              "       0.4575234 , 0.45628017, 0.42955524, 0.4282848 , 0.41183704,\n",
              "       0.42368752, 0.3220876 , 0.3359733 , 0.31937376, 0.29172516,\n",
              "       0.35105878, 0.4001619 , 0.40426034, 0.37259087, 0.32993206,\n",
              "       0.3303065 , 0.32042885, 0.2726521 , 0.28152415, 0.275755  ,\n",
              "       0.2605722 , 0.19772361, 0.19799517, 0.17663781, 0.13275623,\n",
              "       0.11636993, 0.09949373, 0.08750589, 0.06847608, 0.07209083,\n",
              "       0.06221342, 0.06984553, 0.04945865, 0.08892909, 0.0981085 ,\n",
              "       0.12542666, 0.12240709, 0.1684885 , 0.19077964, 0.17946537,\n",
              "       0.19332646, 0.20708342, 0.24482106, 0.23955381, 0.25321084,\n",
              "       0.23442242, 0.22077644, 0.22521842, 0.21502271, 0.235428  ,\n",
              "       0.23736316, 0.25232005, 0.2616955 , 0.25450853, 0.29090378,\n",
              "       0.2995412 , 0.29946873, 0.28830153, 0.29775643, 0.32755882,\n",
              "       0.32699373, 0.3490092 , 0.38310015, 0.3938005 , 0.40506124,\n",
              "       0.4091167 , 0.4355209 , 0.4267567 , 0.4461268 , 0.4073314 ,\n",
              "       0.3018547 , 0.28949422, 0.3104935 , 0.3303534 , 0.334999  ,\n",
              "       0.3092851 , 0.2803019 , 0.26772642, 0.27096957, 0.30709302,\n",
              "       0.2853223 , 0.27131814, 0.2919474 , 0.2762019 , 0.23589921,\n",
              "       0.21667323, 0.21974103, 0.24258578, 0.25759277, 0.23834541,\n",
              "       0.2168405 , 0.192853  , 0.18774849, 0.18782675, 0.19116025,\n",
              "       0.22784725, 0.24403092, 0.25029805, 0.2523327 , 0.24555716,\n",
              "       0.27842245, 0.27308404, 0.28776562, 0.29862717, 0.35214892,\n",
              "       0.35114536, 0.35663742, 0.3535274 , 0.32803112, 0.3226618 ,\n",
              "       0.3311914 , 0.31118837, 0.31388447, 0.25838125, 0.27174252,\n",
              "       0.3461266 , 0.30565733, 0.32758218, 0.34933814, 0.3170497 ,\n",
              "       0.28599584, 0.277647  , 0.2976824 , 0.3439403 , 0.3505721 ,\n",
              "       0.35270414, 0.37278295, 0.41051444, 0.42326993, 0.43337512,\n",
              "       0.44696054, 0.38678774, 0.37610692, 0.38287193, 0.43284017,\n",
              "       0.5941225 , 0.7068086 , 0.7280725 , 0.695686  , 0.72105515,\n",
              "       0.66535175, 0.6603868 , 0.6632956 , 0.7364701 , 0.7626747 ,\n",
              "       0.78638214, 0.79637986, 0.814027  ], dtype=float32)"
            ]
          },
          "metadata": {},
          "execution_count": 20
        }
      ]
    },
    {
      "cell_type": "code",
      "source": [
        "# predicciones\n",
        "trainPredict = model.predict(trainX, batch_size=batch_size)\n",
        "trainPredict = trainPredict.flatten('F')\n",
        "trainPredict = trainPredict.reshape(-1,1)\n",
        "model.reset_states()\n",
        "testPredict = model.predict(testX, batch_size=batch_size)\n",
        "testPredict = testPredict.flatten('F')\n",
        "testPredict = testPredict.reshape(-1,1)\n",
        "\n",
        "# se invierten las predicciones\n",
        "trainPredict = scalerTrY.inverse_transform(trainPredict)\n",
        "trainYY = scalerTrY.inverse_transform([trainY])\n",
        "testPredict = scalerTeY.inverse_transform(testPredict)\n",
        "testYY = scalerTeY.inverse_transform([testY])\n",
        "\n",
        "\n",
        "# mean absolute error\n",
        "maeTr = mean_absolute_error(trainYY[0], trainPredict[:,0])\n",
        "print('Train MAE score: %.2f' % maeTr)\n",
        "maeTe = mean_absolute_error(testYY[0], testPredict[:,0])\n",
        "print('Test MAE score: %.2f' % maeTe)\n",
        "\n",
        "# mean squared error\n",
        "mseTr = mean_squared_error(trainYY[0], trainPredict[:,0])\n",
        "print('\\nTrain MSE score: %.2f' % mseTr)\n",
        "mseTe = mean_squared_error(testYY[0], testPredict[:,0])\n",
        "print('Test MSE score: %.2f' % mseTe)\n",
        "\n",
        "# root mean squared error\n",
        "trainScore = math.sqrt(mean_squared_error(trainYY[0], trainPredict[:,0]))\n",
        "print('\\nTrain RMSE score: %.2f' % (trainScore))\n",
        "testScore = math.sqrt(mean_squared_error(testYY[0], testPredict[:,0]))\n",
        "print('Test RMSE score: %.2f' % (testScore))\n",
        "\n",
        "# mean directional accuracy\n",
        "mda = mean_directional_accuracy(testYY[0], testPredict)\n",
        "print('\\nTest MDA score: ', \"{:.0%}\".format(mda))"
      ],
      "metadata": {
        "id": "46kLP9nlwAp0",
        "colab": {
          "base_uri": "https://localhost:8080/"
        },
        "outputId": "84969852-dcea-44e2-ef9a-6b11ce54a05e"
      },
      "execution_count": 24,
      "outputs": [
        {
          "output_type": "stream",
          "name": "stdout",
          "text": [
            "Train MAE score: 1.44\n",
            "Test MAE score: 5.82\n",
            "\n",
            "Train MSE score: 3.89\n",
            "Test MSE score: 63.85\n",
            "\n",
            "Train RMSE score: 1.97\n",
            "Test RMSE score: 7.99\n",
            "\n",
            "Test MDA score:  47%\n"
          ]
        }
      ]
    },
    {
      "cell_type": "code",
      "source": [
        "dsVLSTM"
      ],
      "metadata": {
        "colab": {
          "base_uri": "https://localhost:8080/"
        },
        "id": "rSWmR7_FjmS6",
        "outputId": "c2609172-52c2-46f5-d022-e427fefd343a"
      },
      "execution_count": 25,
      "outputs": [
        {
          "output_type": "execute_result",
          "data": {
            "text/plain": [
              "array([[0, 62.71599960327149, 60.63999938964844, 59.486000061035156,\n",
              "        61.74800109863281, 61.33000183105469],\n",
              "       [0, 60.63999938964844, 59.486000061035156, 61.74800109863281,\n",
              "        61.33000183105469, 59.43600082397461],\n",
              "       [0, 59.486000061035156, 61.74800109863281, 61.33000183105469,\n",
              "        59.43600082397461, 58.03400039672852],\n",
              "       ...,\n",
              "       [0, 198.17999267578125, 196.42599487304688, 198.3580017089844,\n",
              "        200.79200744628903, 200.17999267578125],\n",
              "       [1, 196.42599487304688, 198.3580017089844, 200.79200744628903,\n",
              "        200.17999267578125, 198.86399841308597],\n",
              "       [0, 198.3580017089844, 200.79200744628903, 200.17999267578125,\n",
              "        198.86399841308597, 200.3560028076172]], dtype=object)"
            ]
          },
          "metadata": {},
          "execution_count": 25
        }
      ]
    },
    {
      "cell_type": "code",
      "source": [
        "i = 1\n",
        "columna = [fila[i] for fila in dataset]\n",
        "ds = np.array(columna)\n",
        "ds = ds.reshape(-1,1)\n",
        "\n",
        "trainPredictPlot = np.empty_like(ds)\n",
        "trainPredictPlot[:, :] = np.nan\n",
        "trainPredictPlot[dias:len(trainPredict)+dias, :] = trainPredict\n",
        "\n",
        "testPredictPlot = np.empty_like(ds)\n",
        "testPredictPlot[:, :] = np.nan\n",
        "testPredictPlot[len(trainPredict)+(dias):len(ds)-1, :] = testPredict\n",
        "\n",
        "# plot de los datos de entrada y las predicciones\n",
        "plt.figure(figsize=(15, 5))\n",
        "plt.plot(ds, label='Real')\n",
        "plt.title('Curva de entrenamiento y test '+empresa)\n",
        "plt.plot(trainPredictPlot, label=\"Entrenamiento\")\n",
        "plt.plot(testPredictPlot, label=\"Test\")\n",
        "plt.axvline(x=trainPredict.shape[0], c='r', linestyle='--')\n",
        "plt.xlabel('días')\n",
        "plt.ylabel('valor de la acción')\n",
        "plt.legend()\n",
        "plt.show()"
      ],
      "metadata": {
        "id": "7wDWHCKpiL8e",
        "colab": {
          "base_uri": "https://localhost:8080/",
          "height": 350
        },
        "outputId": "db61acc6-1dc4-43d7-cea7-e65039df29b3"
      },
      "execution_count": 26,
      "outputs": [
        {
          "output_type": "display_data",
          "data": {
            "image/png": "[encoded data removed]",
            "text/plain": [
              "<Figure size 1080x360 with 1 Axes>"
            ]
          },
          "metadata": {
            "needs_background": "light"
          }
        }
      ]
    },
    {
      "cell_type": "code",
      "source": [
        "ds"
      ],
      "metadata": {
        "id": "g-hNJJywkdq_"
      },
      "execution_count": null,
      "outputs": []
    }
  ]
}